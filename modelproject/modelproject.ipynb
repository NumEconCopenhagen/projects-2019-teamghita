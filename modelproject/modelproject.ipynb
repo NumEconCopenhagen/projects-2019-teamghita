{
 "cells": [
  {
   "cell_type": "markdown",
   "metadata": {},
   "source": [
    "# Model Project - P vs. Q in environmental policy making"
   ]
  },
  {
   "cell_type": "code",
   "execution_count": 1,
   "metadata": {},
   "outputs": [],
   "source": [
    "#Preload packages\n",
    "%matplotlib inline\n",
    "import matplotlib\n",
    "import matplotlib.pyplot as plt\n",
    "import numpy as np\n",
    "import sympy as sm\n",
    "sm.init_printing(use_unicode=True)\n",
    "\n",
    "from bokeh.layouts import row, widgetbox, column\n",
    "from bokeh.models import CustomJS, Slider, Range1d\n",
    "from bokeh.plotting import Figure, output_file, show, ColumnDataSource\n"
   ]
  },
  {
   "cell_type": "markdown",
   "metadata": {},
   "source": [
    "# P vs. Q without uncertainty"
   ]
  },
  {
   "cell_type": "markdown",
   "metadata": {},
   "source": [
    "## Model setup"
   ]
  },
  {
   "cell_type": "markdown",
   "metadata": {},
   "source": [
    "Consider the optimal provision of an environmental good (Example used in Weitzman (1974) is \"clean air\", i.e. opposite of pollution) in a standard setting, where the marginal benefit of the good is decreasing in quantity and marginal cost of the good is increasing in quantity, i.e. the model can be expressed as:\n",
    "\n",
    "* $B(q)$ is societies benefit in producing commodity $q$.\n",
    "* $B'(q)<0$ is societies marginal benefit in producing commodity $q$.\n",
    "* $C(q)$ is societies cost in producing commodity $q$.\n",
    "* $B'(q)>0$ is societies marginal cost in producing commodity $q$.\n",
    "\n",
    "The planner's problem is then to maximize:\n",
    "$$ \\max_q B(q)-C(q) $$\n",
    "Which yields the solution\n",
    "$$ B'(q^*)=C'(q^*)=p^* $$\n",
    "Where $p^*$ is the optimal price for the environmental good.\n",
    "\n",
    "Consider a functional form with no uncertainty:\n",
    "* $B'(q) = a-b \\cdot q $\n",
    "* $C'(q) = c+d \\cdot q $"
   ]
  },
  {
   "cell_type": "markdown",
   "metadata": {},
   "source": [
    "## Graphical analysis\n",
    "\n",
    "If we specify model parameters, we can solve the model graphically"
   ]
  },
  {
   "cell_type": "code",
   "execution_count": 2,
   "metadata": {},
   "outputs": [],
   "source": [
    "#_par means parameter. We specify model parameters.\n",
    "a_par = 30\n",
    "b_par = 0.5\n",
    "c_par = 5\n",
    "d_par = 2\n",
    "\n",
    "#Define functions.\n",
    "def B_derivative(q):\n",
    "    return (a_par - b_par * q)\n",
    "\n",
    "def C_derivative(q):\n",
    "    return (c_par + d_par * q)"
   ]
  },
  {
   "cell_type": "code",
   "execution_count": 3,
   "metadata": {},
   "outputs": [
    {
     "data": {
      "image/png": "[encoded data removed]",
      "text/latex": [
       "$$\\left ( 0, \\quad 38.6\\right )$$"
      ],
      "text/plain": [
       "(0, 38.6)"
      ]
     },
     "execution_count": 3,
     "metadata": {},
     "output_type": "execute_result"
    },
    {
     "data": {
      "image/png": "[encoded data removed]",
      "text/plain": [
       "<Figure size 432x288 with 1 Axes>"
      ]
     },
     "metadata": {
      "needs_background": "light"
     },
     "output_type": "display_data"
    }
   ],
   "source": [
    "#Plot the specified functions given parameters\n",
    "q = np.linspace(0, 16, 1000)\n",
    "plt.plot(q, B_derivative(q), label = \"Marginal benefit of environmental good\")\n",
    "plt.plot(q, C_derivative(q), label = \"Marginal cost of environmental good\")\n",
    "plt.title(\"Marginal benefit and cost of environmental good\")\n",
    "plt.legend(frameon = False)\n",
    "plt.xlabel(\"Quantity $q$\")\n",
    "plt.ylabel(\"$B'(q),C'(q)$\")\n",
    "plt.ylim(0)"
   ]
  },
  {
   "cell_type": "markdown",
   "metadata": {},
   "source": [
    "## Analytical analysis\n",
    "We can solve it analytically also using sympy"
   ]
  },
  {
   "cell_type": "code",
   "execution_count": 4,
   "metadata": {},
   "outputs": [
    {
     "data": {
      "image/png": "[encoded data removed]",
      "text/latex": [
       "$$a - b q = c + d q$$"
      ],
      "text/plain": [
       "a - b⋅q = c + d⋅q"
      ]
     },
     "execution_count": 4,
     "metadata": {},
     "output_type": "execute_result"
    }
   ],
   "source": [
    "#Specify sympy symbols\n",
    "a = sm.symbols('a')\n",
    "b = sm.symbols('b')\n",
    "c = sm.symbols('c')\n",
    "d = sm.symbols('d')\n",
    "q = sm.symbols('q')\n",
    "p = sm.symbols('p')\n",
    "\n",
    "#First we set marginal cost and benefit equal\n",
    "equilibrium = sm.Eq(a-b*q,c+d*q)\n",
    "equilibrium"
   ]
  },
  {
   "cell_type": "code",
   "execution_count": 5,
   "metadata": {},
   "outputs": [
    {
     "data": {
      "image/png": "[encoded data removed]",
      "text/latex": [
       "$$\\left [ \\frac{a - c}{b + d}\\right ]$$"
      ],
      "text/plain": [
       "⎡a - c⎤\n",
       "⎢─────⎥\n",
       "⎣b + d⎦"
      ]
     },
     "execution_count": 5,
     "metadata": {},
     "output_type": "execute_result"
    }
   ],
   "source": [
    "#Solve for q\n",
    "opt_q = sm.solve(equilibrium,q)\n",
    "opt_q"
   ]
  },
  {
   "cell_type": "code",
   "execution_count": 6,
   "metadata": {},
   "outputs": [
    {
     "data": {
      "image/png": "[encoded data removed]",
      "text/latex": [
       "$$\\left [ \\frac{a d + b c}{b + d}\\right ]$$"
      ],
      "text/plain": [
       "⎡a⋅d + b⋅c⎤\n",
       "⎢─────────⎥\n",
       "⎣  b + d  ⎦"
      ]
     },
     "execution_count": 6,
     "metadata": {},
     "output_type": "execute_result"
    }
   ],
   "source": [
    "#Solve for P\n",
    "MC = sm.Eq(c+d*q,p)\n",
    "MC_subs = MC.subs(q,opt_q[0])\n",
    "opt_p = sm.solve(MC_subs,p)\n",
    "opt_p"
   ]
  },
  {
   "cell_type": "markdown",
   "metadata": {},
   "source": [
    "## Numerical analysis\n",
    "\n",
    "We can also solve the model numerically by solving a system of two equations with two unkowns:"
   ]
  },
  {
   "cell_type": "code",
   "execution_count": 7,
   "metadata": {},
   "outputs": [
    {
     "name": "stdout",
     "output_type": "stream",
     "text": [
      "p = 25.0\n",
      "q = 10.0\n"
     ]
    }
   ],
   "source": [
    "MC_num = sm.Eq(a_par - b_par * q,p)\n",
    "MB_num = sm.Eq(c_par + d_par * q,p)\n",
    "\n",
    "sol_dict = sm.solve((MC_num,MB_num), (q, p))\n",
    "print(f'p = {float(sol_dict[p])}')\n",
    "print(f'q = {float(sol_dict[q])}')"
   ]
  },
  {
   "cell_type": "markdown",
   "metadata": {},
   "source": [
    "## Welfare under policies\n",
    "Aggregate welfare can be defined as:\n",
    "\n",
    "$$ W = \\int_0^{q^{pc}} (a-b\\cdot q) - (c+ d \\cdot q )dq$$\n",
    "\n",
    "Where $q^{pc}$ is the amount produced of the environmental good under policy choice, $pc$. Under allowances  (q-policy) we will denote $q^{pc}=q^f$ for fixed and under pigouvian taxes (p-policy) we will denote this as $p^{pc}=q^t$ for taxes. The welfare difference between these two policy outcomes can be defined as:\n",
    "\n",
    "$$\\Delta W = W_{taxes} - W_{allowances}=  \\int_0^{q^t} (a-b\\cdot q) - (c+ d \\cdot q )dq - \\int_0^{q^f} (a-b\\cdot q) - (c+ d \\cdot q )dq$$\n",
    "\n",
    "Which means if $\\Delta W > 0$ then pigouvian taxes are prefered to allowances, and vice-versa. If $\\Delta W=0$ then the social planner is indifferent."
   ]
  },
  {
   "cell_type": "markdown",
   "metadata": {},
   "source": [
    "## Policy under no uncertainty"
   ]
  },
  {
   "cell_type": "markdown",
   "metadata": {},
   "source": [
    "In the case of no uncertainty, then it's obvious, if we consider pigouvian taxes or allowances as policy instruments, that both can yield the same outcome if set at efficient levels. Policy under no uncertainty can also be viewed as the case of uncertainty, but policy is set *ex post* rather *ex ante*.\n",
    "\n",
    "We know that the optimal outcome is\n",
    "$$ B'(q^*)=C'(q^*)=p^* $$\n",
    "\n",
    "The above solutions shows that the optimal solution under quantity regulation (allowances) is:\n",
    "\n",
    "$q^*=\\frac{a-c}{b+d}$\n",
    "\n",
    "And optimal price under price regulation (pigouvian taxes) is:\n",
    "\n",
    "$p^* = \\frac{ad+bc}{b+d}$\n",
    "\n",
    "and the resulting $q^t$ (i.e. amount produced under taxes) is:"
   ]
  },
  {
   "cell_type": "code",
   "execution_count": 8,
   "metadata": {},
   "outputs": [
    {
     "data": {
      "image/png": "[encoded data removed]",
      "text/latex": [
       "$$\\left [ \\frac{a - c}{b + d}\\right ]$$"
      ],
      "text/plain": [
       "⎡a - c⎤\n",
       "⎢─────⎥\n",
       "⎣b + d⎦"
      ]
     },
     "execution_count": 8,
     "metadata": {},
     "output_type": "execute_result"
    }
   ],
   "source": [
    "#We substitue optimal q in marginal cost function and derive amount produced under taxes\n",
    "MC_sub = MC.subs(p,opt_p[0])\n",
    "\n",
    "q_undertaxes = sm.solve(MC_sub,q)\n",
    "q_undertaxes"
   ]
  },
  {
   "cell_type": "markdown",
   "metadata": {},
   "source": [
    "which coincides with $q^*=q^f$ because of no uncertainty in the model.\n",
    "\n",
    "Welfare under taxes is then:"
   ]
  },
  {
   "cell_type": "code",
   "execution_count": 9,
   "metadata": {},
   "outputs": [
    {
     "data": {
      "image/png": "[encoded data removed]",
      "text/latex": [
       "$$\\frac{\\left(a - c\\right)^{2}}{2 \\left(b + d\\right)}$$"
      ],
      "text/plain": [
       "        2\n",
       " (a - c) \n",
       "─────────\n",
       "2⋅(b + d)"
      ]
     },
     "execution_count": 9,
     "metadata": {},
     "output_type": "execute_result"
    }
   ],
   "source": [
    "#We integrate from 0 to amount produced under taxes\n",
    "welfare_taxes = sm.integrate((a-b*q)-(c+d*q), (q, 0, q_undertaxes))\n",
    "sm.simplify(welfare_taxes)"
   ]
  },
  {
   "cell_type": "markdown",
   "metadata": {},
   "source": [
    "Welfare under allowances is then:"
   ]
  },
  {
   "cell_type": "code",
   "execution_count": 10,
   "metadata": {},
   "outputs": [
    {
     "data": {
      "image/png": "[encoded data removed]",
      "text/latex": [
       "$$\\frac{\\left(a - c\\right)^{2}}{2 \\left(b + d\\right)}$$"
      ],
      "text/plain": [
       "        2\n",
       " (a - c) \n",
       "─────────\n",
       "2⋅(b + d)"
      ]
     },
     "execution_count": 10,
     "metadata": {},
     "output_type": "execute_result"
    }
   ],
   "source": [
    "#We integrate from 0 to amount produced under allowances\n",
    "welfare_allowances = sm.integrate((a-b*q)-(c+d*q), (q, 0, opt_q))\n",
    "sm.simplify(welfare_allowances)"
   ]
  },
  {
   "cell_type": "markdown",
   "metadata": {},
   "source": [
    "$\\Delta W = W_{taxes} - W_{allowances}$ is then:"
   ]
  },
  {
   "cell_type": "code",
   "execution_count": 11,
   "metadata": {},
   "outputs": [
    {
     "data": {
      "image/png": "[encoded data removed]",
      "text/latex": [
       "$$0$$"
      ],
      "text/plain": [
       "0"
      ]
     },
     "execution_count": 11,
     "metadata": {},
     "output_type": "execute_result"
    }
   ],
   "source": [
    "#Find welfare difference\n",
    "sm.simplify(welfare_taxes - welfare_allowances)"
   ]
  },
  {
   "cell_type": "markdown",
   "metadata": {},
   "source": [
    "Which means they yield the same end outcome, since quantities can be perfectly controlled under taxes aswell as allowances.\n",
    "\n",
    "Numerically we can also see this:"
   ]
  },
  {
   "cell_type": "code",
   "execution_count": 12,
   "metadata": {},
   "outputs": [
    {
     "name": "stdout",
     "output_type": "stream",
     "text": [
      "Welfare under allowances=125.00\n",
      "Welfare under taxes     =125.00\n"
     ]
    }
   ],
   "source": [
    "#First we integrate over allowances\n",
    "welfare_allowances_numerically = sm.integrate((a_par-b_par*q)-(c_par+d_par*q), (q, 0, sol_dict[q]))\n",
    "\n",
    "#Define a function to see what is produced under taxes (MC function, but isolate for q as function of p)\n",
    "def q_under_taxes_num(p):\n",
    "    return ((p-c_par)/d_par)\n",
    "\n",
    "q_tax = q_under_taxes_num(sol_dict[p])\n",
    "q_tax\n",
    "\n",
    "welfare_taxes_numerically = sm.integrate((a_par-b_par*q)-(c_par+d_par*q), (q, 0, q_tax))\n",
    "\n",
    "print(f'Welfare under allowances={welfare_allowances_numerically:.2f}')\n",
    "print(f'Welfare under taxes     ={welfare_taxes_numerically:.2f}')"
   ]
  },
  {
   "cell_type": "markdown",
   "metadata": {},
   "source": [
    "# P vs. Q with uncorrelated uncertainty"
   ]
  },
  {
   "cell_type": "markdown",
   "metadata": {},
   "source": [
    "Consider the same setup above, but consider the wrinkle to the problem presented in Weitzman(1974), where we're unsure about the benefits and production costs of providing the environmental good *ex ante*:\n",
    "\n",
    "The planner's problem is then to maximize:\n",
    "$$ \\max_q E[B(q,\\eta)]-E[C(q,\\theta)] $$\n",
    "Which yields the first-order-condition:\n",
    "$$ E[B'(q,\\eta)]=E[C'(q,\\theta)] $$\n",
    "Where $p^*$ is the optimal price for the environmental good.\n",
    "\n",
    "Consider a functional form with uncorrelated uncertainty:\n",
    "* $B'(q,\\eta) = a-b \\cdot q + \\eta $\n",
    "* $C'(q,\\theta) = c+d \\cdot q + \\theta $\n",
    "\n",
    "Where we also assume:\n",
    "\n",
    "* $E[\\eta]=E[\\theta]=0$,\n",
    "* $E[\\eta \\theta]=0$,\n",
    "* $E[\\eta^2]=\\sigma_\\eta^2$ and\n",
    "* $E[\\theta^2]=\\sigma_\\theta^2$."
   ]
  },
  {
   "cell_type": "markdown",
   "metadata": {},
   "source": [
    "## Analytical analysis"
   ]
  },
  {
   "cell_type": "code",
   "execution_count": 13,
   "metadata": {},
   "outputs": [
    {
     "data": {
      "image/png": "[encoded data removed]",
      "text/latex": [
       "$$a - b q + \\eta = c + d q + \\theta$$"
      ],
      "text/plain": [
       "a - b⋅q + η = c + d⋅q + θ"
      ]
     },
     "execution_count": 13,
     "metadata": {},
     "output_type": "execute_result"
    }
   ],
   "source": [
    "#Define new sympy symbols\n",
    "eta = sm.symbols('eta')\n",
    "theta = sm.symbols('theta')\n",
    "qt = sm.symbols('q^t')\n",
    "\n",
    "#First we set marginal cost and benefit equal under the assumption we know the shock (ex post):\n",
    "equilibrium_post = sm.Eq(a-b*q+eta,c+d*q+theta)\n",
    "equilibrium_post"
   ]
  },
  {
   "cell_type": "code",
   "execution_count": 14,
   "metadata": {},
   "outputs": [
    {
     "data": {
      "image/png": "[encoded data removed]",
      "text/latex": [
       "$$\\left [ \\frac{a - c + \\eta - \\theta}{b + d}\\right ]$$"
      ],
      "text/plain": [
       "⎡a - c + η - θ⎤\n",
       "⎢─────────────⎥\n",
       "⎣    b + d    ⎦"
      ]
     },
     "execution_count": 14,
     "metadata": {},
     "output_type": "execute_result"
    }
   ],
   "source": [
    "#Solve for optimal q (ex post)\n",
    "q_post = sm.solve(equilibrium_post,q)\n",
    "q_post"
   ]
  },
  {
   "cell_type": "code",
   "execution_count": 15,
   "metadata": {},
   "outputs": [
    {
     "data": {
      "image/png": "[encoded data removed]",
      "text/latex": [
       "$$\\left [ \\frac{a d + b c + b \\theta + d \\eta}{b + d}\\right ]$$"
      ],
      "text/plain": [
       "⎡a⋅d + b⋅c + b⋅θ + d⋅η⎤\n",
       "⎢─────────────────────⎥\n",
       "⎣        b + d        ⎦"
      ]
     },
     "execution_count": 15,
     "metadata": {},
     "output_type": "execute_result"
    }
   ],
   "source": [
    "#Solve for optimal p (ex post)\n",
    "MC = sm.Eq(c+d*q+theta,p)\n",
    "MC_subs = MC.subs(q,q_post[0])\n",
    "p_post = sm.solve(MC_subs,p)\n",
    "p_post"
   ]
  },
  {
   "cell_type": "code",
   "execution_count": 16,
   "metadata": {},
   "outputs": [
    {
     "data": {
      "image/png": "[encoded data removed]",
      "text/latex": [
       "$$a - b q = c + d q$$"
      ],
      "text/plain": [
       "a - b⋅q = c + d⋅q"
      ]
     },
     "execution_count": 16,
     "metadata": {},
     "output_type": "execute_result"
    }
   ],
   "source": [
    "#Ex ante we don't know the shocks, so we setup equilibrium equation ex ante.\n",
    "equilibrium_pre = sm.Eq(a-b*q,c+d*q)\n",
    "equilibrium_pre"
   ]
  },
  {
   "cell_type": "code",
   "execution_count": 17,
   "metadata": {},
   "outputs": [
    {
     "data": {
      "image/png": "[encoded data removed]",
      "text/latex": [
       "$$\\left [ \\frac{a - c}{b + d}\\right ]$$"
      ],
      "text/plain": [
       "⎡a - c⎤\n",
       "⎢─────⎥\n",
       "⎣b + d⎦"
      ]
     },
     "execution_count": 17,
     "metadata": {},
     "output_type": "execute_result"
    }
   ],
   "source": [
    "#Solve for q (ex ante), as in model without uncertainty.  \n",
    "#I.e. the optimal amount produced under uncertainty ex ante\n",
    "q_opt_pre = sm.solve(equilibrium_pre,q)\n",
    "q_opt_pre"
   ]
  },
  {
   "cell_type": "code",
   "execution_count": 18,
   "metadata": {},
   "outputs": [
    {
     "data": {
      "image/png": "[encoded data removed]",
      "text/latex": [
       "$$\\left [ \\frac{a d + b c}{b + d}\\right ]$$"
      ],
      "text/plain": [
       "⎡a⋅d + b⋅c⎤\n",
       "⎢─────────⎥\n",
       "⎣  b + d  ⎦"
      ]
     },
     "execution_count": 18,
     "metadata": {},
     "output_type": "execute_result"
    }
   ],
   "source": [
    "#Solve for p (ex ante)\n",
    "MC = sm.Eq(c+d*q,p)\n",
    "MC_subs = MC.subs(q,q_opt_pre[0])\n",
    "p_pre = sm.solve(MC_subs,p)\n",
    "p_pre"
   ]
  },
  {
   "cell_type": "markdown",
   "metadata": {},
   "source": [
    "Firms will produce up until the point where $p=C'(q,\\theta)$ since they choose their production after they observe the shock, i.e:"
   ]
  },
  {
   "cell_type": "code",
   "execution_count": 19,
   "metadata": {},
   "outputs": [
    {
     "data": {
      "image/png": "[encoded data removed]",
      "text/latex": [
       "$$\\frac{a d + b c}{b + d} = c + d q^{t} + \\theta$$"
      ],
      "text/plain": [
       "a⋅d + b⋅c                 \n",
       "───────── = c + d⋅q__t + θ\n",
       "  b + d                   "
      ]
     },
     "execution_count": 19,
     "metadata": {},
     "output_type": "execute_result"
    }
   ],
   "source": [
    "prod_problem = sm.Eq(p,c+d*qt+theta)\n",
    "prod_prob_sub = prod_problem.subs(p,p_pre[0])\n",
    "prod_prob_sub"
   ]
  },
  {
   "cell_type": "markdown",
   "metadata": {},
   "source": [
    "Left hand side is the tax set beforehand. Right hand is the marginal cost of producing the environmental good. \n",
    "\n",
    "Which yields the optimal quantity under taxes *ex ante* to be:"
   ]
  },
  {
   "cell_type": "code",
   "execution_count": 20,
   "metadata": {},
   "outputs": [
    {
     "data": {
      "image/png": "[encoded data removed]",
      "text/latex": [
       "$$\\left [ \\frac{a d - b \\theta - c d - d \\theta}{d \\left(b + d\\right)}\\right ]$$"
      ],
      "text/plain": [
       "⎡a⋅d - b⋅θ - c⋅d - d⋅θ⎤\n",
       "⎢─────────────────────⎥\n",
       "⎣      d⋅(b + d)      ⎦"
      ]
     },
     "execution_count": 20,
     "metadata": {},
     "output_type": "execute_result"
    }
   ],
   "source": [
    "opt_pre_q_taxes = sm.solve(prod_prob_sub,qt)\n",
    "opt_pre_q_taxes"
   ]
  },
  {
   "cell_type": "markdown",
   "metadata": {},
   "source": [
    "We note that this is different from our *ex ante* solution for optimal $q$ under allowances:\n",
    "\n",
    "$$ q^f = \\frac{a-c}{b+d}$$ \n",
    "\n",
    "and optimal *ex post* solution:\n",
    "\n",
    "$$ q^{post} = \\frac{a-c+\\eta-\\theta}{b+d}$$"
   ]
  },
  {
   "cell_type": "markdown",
   "metadata": {},
   "source": [
    "## Welfare under policies\n",
    "The welfare difference between these two policy outcomes can be defined as under uncorrelated uncertainty:\n",
    "\n",
    "$$\\Delta W = W_{taxes} - W_{allowances}=  \\int_0^{q^t} (a-b\\cdot q+\\eta) - (c+ d \\cdot q + \\theta)dq - \\int_0^{q^f} (a-b\\cdot q + \\eta) - (c+ d \\cdot q + \\theta )dq$$"
   ]
  },
  {
   "cell_type": "markdown",
   "metadata": {},
   "source": [
    "## Policy choice under uncorrelated uncertainty\n",
    "\n",
    "Policy choice under uncorrelated uncertainty is harder to analyze, since taxes and allowances are set *ex ante* when shocks aren't know, hence the variance of the shocks are important when finding optimal policy.\n"
   ]
  },
  {
   "cell_type": "code",
   "execution_count": 21,
   "metadata": {},
   "outputs": [
    {
     "data": {
      "image/png": "[encoded data removed]",
      "text/latex": [
       "$$\\frac{\\left(- a d + b \\theta + c d + d \\theta\\right) \\left(a d - b \\theta - c d - d \\theta - 2 d \\left(a - c + \\eta - \\theta\\right)\\right)}{2 d^{2} \\left(b + d\\right)}$$"
      ],
      "text/plain": [
       "(-a⋅d + b⋅θ + c⋅d + d⋅θ)⋅(a⋅d - b⋅θ - c⋅d - d⋅θ - 2⋅d⋅(a - c + η - θ))\n",
       "──────────────────────────────────────────────────────────────────────\n",
       "                                2                                     \n",
       "                             2⋅d ⋅(b + d)                             "
      ]
     },
     "execution_count": 21,
     "metadata": {},
     "output_type": "execute_result"
    }
   ],
   "source": [
    "welfare_taxes = sm.integrate((a-b*q+eta)-(c+d*q+theta), (q, 0, opt_pre_q_taxes))\n",
    "sm.simplify(welfare_taxes)"
   ]
  },
  {
   "cell_type": "code",
   "execution_count": 22,
   "metadata": {},
   "outputs": [
    {
     "data": {
      "image/png": "[encoded data removed]",
      "text/latex": [
       "$$\\frac{\\left(a - c\\right) \\left(a - c + 2 \\eta - 2 \\theta\\right)}{2 \\left(b + d\\right)}$$"
      ],
      "text/plain": [
       "(a - c)⋅(a - c + 2⋅η - 2⋅θ)\n",
       "───────────────────────────\n",
       "         2⋅(b + d)         "
      ]
     },
     "execution_count": 22,
     "metadata": {},
     "output_type": "execute_result"
    }
   ],
   "source": [
    "welfare_allowances = sm.integrate((a-b*q+eta)-(c+d*q+theta), (q, 0, opt_q))\n",
    "sm.simplify(welfare_allowances)"
   ]
  },
  {
   "cell_type": "code",
   "execution_count": 23,
   "metadata": {},
   "outputs": [
    {
     "data": {
      "image/png": "[encoded data removed]",
      "text/latex": [
       "$$- \\frac{\\theta \\left(b \\theta + 2 d \\eta - d \\theta\\right)}{2 d^{2}}$$"
      ],
      "text/plain": [
       "-θ⋅(b⋅θ + 2⋅d⋅η - d⋅θ) \n",
       "───────────────────────\n",
       "             2         \n",
       "          2⋅d          "
      ]
     },
     "execution_count": 23,
     "metadata": {},
     "output_type": "execute_result"
    }
   ],
   "source": [
    "sm.simplify(welfare_taxes - welfare_allowances)"
   ]
  },
  {
   "cell_type": "markdown",
   "metadata": {},
   "source": [
    "Expected difference is then (simplify a bit by hand, since sympy doesn't do this automatically):\n",
    "$$ E[\\Delta W] = E\\left[-\\frac{\\theta(b \\theta+2 d \\eta-d \\theta)}{2 d^{2}} \\right] = E\\left[-\\frac{b \\theta^2 + 2 d \\eta \\theta - d \\theta^2}{2d^2} \\right]= E\\left[ \\frac{\\theta^2}{2d} - - \\frac{2d\\eta \\theta}{2d^2}- \\frac{b \\theta^2}{2d^2} \\right] = \\frac{\\sigma_\\theta^2}{2d}-\\frac{\\sigma_\\theta^2 b}{2d^2}$$"
   ]
  },
  {
   "cell_type": "markdown",
   "metadata": {},
   "source": [
    "## Interactive figure, where model parameters can be set"
   ]
  },
  {
   "cell_type": "markdown",
   "metadata": {},
   "source": [
    "Given the model above with uncorrelated uncertainty, we can present the following interactive figure, where model parameters can be set. The x-axis is $\\sigma^2_\\theta$ and y-axis is $E[\\Delta W]$"
   ]
  },
  {
   "cell_type": "code",
   "execution_count": 24,
   "metadata": {},
   "outputs": [],
   "source": [
    "output_file(\"callback.html\")\n",
    "\n",
    "x = np.linspace(0,10,500)\n",
    "y = ((x*x)/(2*3))-((x*x*2)/(2*3*3))\n",
    "s1=1\n",
    "s2=1\n",
    "\n",
    "source = ColumnDataSource(data=dict(x=x,y=y))\n",
    "\n",
    "plot = Figure(plot_width=600, plot_height=500, title=\"Interactive graph for depicted expected wellfare differences between policies\")\n",
    "plot.line('x', 'y', source=source, line_width=3, line_alpha=0.6)\n",
    "plot.xaxis.axis_label = \"𝜎_𝜃^2\"\n",
    "plot.xaxis.axis_label_text_font_style = \"italic\"\n",
    "\n",
    "plot.yaxis.axis_label = \"Expeted welfare from taxes - Expected welfare from allowances\"\n",
    "plot.yaxis.axis_label_text_font_style = \"italic\"\n",
    "\n",
    "plot.y_range = Range1d(-15, 15)\n",
    "\n",
    "#Making callback function using JavaScript to update function values given parameters (b,d)\n",
    "callback = CustomJS(args=dict(source=source), code=\"\"\"\n",
    "    var data = source.data;\n",
    "    var b = slider1.value;\n",
    "    var d = slider2.value;\n",
    "    x = data['x'];\n",
    "    for (var i = 0; i < x.length; i++) {\n",
    "        data.y[i] = ((x[i]*data.x[i])/(2*d))-((data.x[i]*data.x[i]*b)/(2*d*d));\n",
    "    }\n",
    "    source.change.emit();\n",
    "\"\"\")\n",
    "\n",
    "b = Slider(start=0, end=10, value=2, step=0.1,\n",
    "                    title=\"Slider for parameter b (B''(q))\", callback=callback)\n",
    "callback.args[\"slider1\"] = b\n",
    "\n",
    "d = Slider(start=0, end=10, value=1, step=0.1,\n",
    "                    title=\"Slider for parameter d (C''(q))\", callback=callback)\n",
    "callback.args[\"slider2\"] = d\n",
    "\n",
    "layout = column(plot, \n",
    "                widgetbox(b, d)\n",
    "               )\n",
    "\n",
    "show(layout)"
   ]
  },
  {
   "cell_type": "markdown",
   "metadata": {},
   "source": [
    "As can be seen in the interactive figure, if b>>d then allowances is prefered and if d>>b then taxes are prefered in order to optimize expected welfare."
   ]
  },
  {
   "cell_type": "markdown",
   "metadata": {},
   "source": [
    "# P vs. Q with correlated uncertainty\n",
    "Given correlation between the shocks in marginal benefits and costs, the expression for $\\Delta W$ does not change in comparison to the uncorrelated case, as only the expected value of $\\Delta W$ differs, as $E\\left[\\sigma^2_{\\theta \\eta}\\right]$ now no longer is 0. Expected difference is then:\n",
    "$$ E[\\Delta W] = E\\left[-\\frac{\\theta(b \\theta+2 d \\eta-d \\theta)}{2 d^{2}}\\right] = E\\left[-\\frac{b \\theta^2 + 2 d \\eta \\theta - d \\theta^2}{2d^2} \\right]= E\\left[ \\frac{\\theta^2}{2d} - \\frac{2d\\eta \\theta}{2d^2}- \\frac{b \\theta^2}{2d^2} \\right] = \\frac{\\sigma_\\theta^2}{2d}-\\frac{\\sigma_\\theta^2 b}{2d^2}-\\frac{\\sigma^2_{\\theta \\eta}}{d} $$\n",
    "This expression can be reformulated to:\n",
    "$$E[\\Delta W]=\\frac{\\sigma^2_\\theta}{d}\\left[\\frac{1}{2} - \\frac{b}{2d}-\\frac{\\rho_{\\theta \\eta} \\sigma_\\eta}{\\sigma_\\theta}\\right] $$\n",
    "Where $\\rho_{\\theta \\eta}$ is the correlation coefficient between benefits and costs."
   ]
  },
  {
   "cell_type": "markdown",
   "metadata": {},
   "source": [
    "# Model simulation of correlated uncertainty model"
   ]
  },
  {
   "cell_type": "markdown",
   "metadata": {},
   "source": [
    "In the section below we try to simulate the model by showing expected welfare losses from different policies given the shocks we specify in the first block."
   ]
  },
  {
   "cell_type": "code",
   "execution_count": 25,
   "metadata": {},
   "outputs": [],
   "source": [
    "# Pick eta and theta (shocks to benefit and cost). \n",
    "eta = 0.2\n",
    "theta = 0.4\n",
    "\n",
    "def B_derivative_shock(q):\n",
    "    return (a_par - b_par * q + eta)\n",
    "\n",
    "def C_derivative_shock(q):\n",
    "    return (c_par + d_par * q + theta)"
   ]
  },
  {
   "cell_type": "code",
   "execution_count": 26,
   "metadata": {},
   "outputs": [
    {
     "name": "stdout",
     "output_type": "stream",
     "text": [
      "p before shock = 25.0\n",
      "q before shock = 10.0\n",
      "p after shock  = 25.24\n",
      "q after shock  = 9.92\n"
     ]
    }
   ],
   "source": [
    "a = sm.symbols('a')\n",
    "b = sm.symbols('b')\n",
    "c = sm.symbols('c')\n",
    "d = sm.symbols('d')\n",
    "q = sm.symbols('q')\n",
    "p = sm.symbols('p')\n",
    "\n",
    "#First we set marginal cost and benefit equal\n",
    "equilibrium = sm.Eq(a-b*q,c+d*q)\n",
    "equilibrium\n",
    "\n",
    "#Solve for q\n",
    "opt_q = sm.solve(equilibrium,q)\n",
    "\n",
    "#Solve for P\n",
    "MC = sm.Eq(c+d*q,p)\n",
    "MC_subs = MC.subs(q,opt_q[0])\n",
    "opt_p = sm.solve(MC_subs,p)\n",
    "\n",
    "MB_num = sm.Eq(a_par - b_par * q,p)\n",
    "MC_num = sm.Eq(c_par + d_par * q,p)\n",
    "\n",
    "#Solve intial equilibrium without shock\n",
    "sol_dict = sm.solve((MC_num,MB_num), (q, p))\n",
    "print(f'p before shock = {float(sol_dict[p])}')\n",
    "print(f'q before shock = {float(sol_dict[q])}')\n",
    "\n",
    "#Solve for new equilibrium with shocks.\n",
    "MB_num_shock = sm.Eq(a_par - b_par * q + eta,p)\n",
    "MC_num_shock = sm.Eq(c_par + d_par * q + theta,p)\n",
    "sol_dict_shock = sm.solve((MC_num_shock,MB_num_shock), (q,p))\n",
    "print(f'p after shock  = {float(sol_dict_shock[p])}')\n",
    "print(f'q after shock  = {float(sol_dict_shock[q])}')\n",
    "\n",
    "#Solve where C'(q) crosses the tax set at 25\n",
    "MC_shock_cut = sm.Eq(c_par + d_par * q + theta,25)\n",
    "shock_dict = sm.solve(MC_shock_cut, q)\n",
    "\n",
    "temp_a1 = sol_dict[q]\n",
    "temp_a2 = sol_dict[p]\n",
    "temp_b1 = sol_dict_shock[q]\n",
    "temp_b2 = sol_dict_shock[p]\n",
    "temp_c1 = shock_dict[0]"
   ]
  },
  {
   "cell_type": "markdown",
   "metadata": {},
   "source": [
    "Which can be illustrated in the graph below"
   ]
  },
  {
   "cell_type": "code",
   "execution_count": 40,
   "metadata": {},
   "outputs": [
    {
     "data": {
      "image/png": "[encoded data removed]",
      "text/plain": [
       "<Figure size 432x288 with 1 Axes>"
      ]
     },
     "metadata": {
      "needs_background": "light"
     },
     "output_type": "display_data"
    }
   ],
   "source": [
    "ymin = 24.5\n",
    "ymax = 26\n",
    "xmin = 9\n",
    "xmax = 11\n",
    "\n",
    "q = np.linspace(0, 16, 1000)\n",
    "plt.plot(q, B_derivative(q), label = \"Marginal benefit of environmental good\", color='blue')\n",
    "plt.plot(q, C_derivative(q), label = \"Marginal cost of environmental good\", color='red')\n",
    "plt.plot(q, B_derivative_shock(q), label = \"Marginal benefit with shock\", color='blue', linestyle='--')\n",
    "plt.plot(q, C_derivative_shock(q), label = \"Marginal cost with shock\", color='red', linestyle='--')\n",
    "plt.title(\"Marginal benefit and cost of environmental good\")\n",
    "plt.legend(frameon = False)\n",
    "plt.xlabel(\"Quantity $q$\")\n",
    "plt.ylabel(\"$B'(q), C'(q)$, $p$\")\n",
    "plt.ylim(ymin,ymax)\n",
    "plt.xlim(xmin,xmax)\n",
    "plt.legend(bbox_to_anchor=(1.01, 1), loc='upper left')\n",
    "\n",
    "plt.axvline(x=temp_a1, ymax=max( (C_derivative_shock(temp_a1)-ymin)/(ymax-ymin) , (B_derivative_shock(temp_a1)-ymin)/(ymax-ymin) , (temp_a2-ymin)/(ymax-ymin)), alpha=0.6, color='black', linestyle='--', label='Q')\n",
    "plt.axvline(x=temp_c1, ymax=max( (C_derivative_shock(temp_c1)-ymin)/(ymax-ymin) , (B_derivative_shock(temp_c1)-ymin)/(ymax-ymin) ), alpha=0.6, color='black', linestyle='--', label='Q')\n",
    "plt.axvline(x=temp_b1, ymax=(temp_b2-ymin)/(ymax-ymin), alpha=0.6, color='black', linestyle='--', label='Q')\n",
    "\n",
    "plt.axhline(y=temp_a2, xmax=max( (temp_a1-xmin)/(xmax-xmin) , (temp_c1-xmin)/(xmax-xmin) ), alpha=0.6, color='black', linestyle='--', label='Q')\n",
    "\n",
    "plt.text(x=temp_a1, y=temp_a2, s='Eq.', alpha=1, color='black')\n",
    "plt.text(x=temp_b1, y=temp_b2, s='Eq. with shock', alpha=1, color='black')\n",
    "\n",
    "if (float(eta)<0 and float(theta)<0) :\n",
    "    plt.fill_between(q, B_derivative_shock(q), C_derivative_shock(q), where = (q>temp_b1) & (q<temp_c1), alpha = 0.3, color='blue', hatch = '|')\n",
    "    plt.fill_between(q, B_derivative_shock(q), C_derivative_shock(q), where = (q>temp_a1) & (q<temp_b1), alpha = 0.3, color='green', hatch = '|')\n",
    "\n",
    "elif (float(eta)>0 and float(theta)>0) :\n",
    "    plt.fill_between(q, B_derivative_shock(q), C_derivative_shock(q), where = (q>temp_c1) & (q<temp_b1), alpha = 0.3, color='blue', hatch = '|')\n",
    "    plt.fill_between(q, B_derivative_shock(q), C_derivative_shock(q), where = (q<temp_a1) & (q>temp_b1), alpha = 0.3, color='green', hatch = '|')\n",
    "\n",
    "elif (float(eta)<0 and float(theta)>0) :\n",
    "    plt.fill_between(q, B_derivative_shock(q), C_derivative_shock(q), where = (q>temp_b1) & (q<temp_c1), alpha = 0.3, color='blue', hatch = '|')\n",
    "    plt.fill_between(q, B_derivative_shock(q), C_derivative_shock(q), where = (q>temp_b1) & (q<temp_a1), alpha = 0.3, color='green', hatch = '|')\n",
    "\n",
    "elif (float(eta)>0 and float(theta)<0) :\n",
    "    plt.fill_between(q, B_derivative_shock(q), C_derivative_shock(q), where = (q<temp_b1) & (q>temp_c1), alpha = 0.3, color='blue', hatch = '|')\n",
    "    plt.fill_between(q, B_derivative_shock(q), C_derivative_shock(q), where = (q<temp_b1) & (q>temp_a1), alpha = 0.3, color='green', hatch = '|')\n"
   ]
  },
  {
   "cell_type": "markdown",
   "metadata": {},
   "source": [
    "Given $\\eta=0.2$ and $\\theta=0.4$ we see that the welfare loss that comes from taxes (blue triangle) is larger than the deadweight loss from allowances (green triangle), since $B''(q)=b$ (0.5) << $C''(q)=d$ (2), as we saw in ther interactive figure above."
   ]
  },
  {
   "cell_type": "markdown",
   "metadata": {},
   "source": [
    "# TODO in exam week:"
   ]
  },
  {
   "cell_type": "markdown",
   "metadata": {},
   "source": [
    "Monte Carlo simulation table/histograms for different parametrizations of $b,d,\\sigma_\\eta^2,\\sigma_\\theta^2,\\sigma_{\\eta,\\theta}^2$\n",
    "to estimate expected welfare given different policies.\n",
    "\n",
    "Using the code below to draw from a multivariate normal distribution and allow varying degrees of correlation between shocks"
   ]
  },
  {
   "cell_type": "code",
   "execution_count": null,
   "metadata": {},
   "outputs": [],
   "source": [
    "mean = [0, 0]\n",
    "cov = [[1, 0.5], [0.5, 1]]  # diagonal covariance\n",
    "eta, theta = np.random.multivariate_normal(mean, cov, 1).T"
   ]
  }
 ],
 "metadata": {
  "kernelspec": {
   "display_name": "Python 3",
   "language": "python",
   "name": "python3"
  },
  "language_info": {
   "codemirror_mode": {
    "name": "ipython",
    "version": 3
   },
   "file_extension": ".py",
   "mimetype": "text/x-python",
   "name": "python",
   "nbconvert_exporter": "python",
   "pygments_lexer": "ipython3",
   "version": "3.7.1"
  }
 },
 "nbformat": 4,
 "nbformat_minor": 2
}
