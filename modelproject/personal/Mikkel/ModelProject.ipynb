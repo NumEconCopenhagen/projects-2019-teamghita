{
 "cells": [
  {
   "cell_type": "markdown",
   "metadata": {},
   "source": [
    "# Model Project"
   ]
  },
  {
   "cell_type": "code",
   "execution_count": 269,
   "metadata": {},
   "outputs": [],
   "source": [
    "%matplotlib inline\n",
    "import matplotlib.pyplot as plt\n",
    "import numpy as np\n",
    "import sympy as sm\n",
    "sm.init_printing(use_unicode=True)"
   ]
  },
  {
   "cell_type": "markdown",
   "metadata": {},
   "source": [
    "# P vs. Q without uncertainty"
   ]
  },
  {
   "cell_type": "markdown",
   "metadata": {},
   "source": [
    "## Model setup"
   ]
  },
  {
   "cell_type": "markdown",
   "metadata": {},
   "source": [
    "Consider the optimal provision of an environmental good (Example used in Weitzman (1974) is \"clean air\", i.e. opposite of pollution) in a standard setting, where the marginal benefit of the good is decreasing in quantity and marginal cost of the good is increasing in quantity, i.e. the model can be expressed as:\n",
    "\n",
    "* $B(q)$ is societies benefit in producing commodity $q$.\n",
    "* $B'(q)<0$ is societies marginal benefit in producing commodity $q$.\n",
    "* $C(q)$ is societies cost in producing commodity $q$.\n",
    "* $B'(q)>0$ is societies marginal cost in producing commodity $q$.\n",
    "\n",
    "The planner's problem is then to maximize:\n",
    "$$ \\max_q B(q)-C(q) $$\n",
    "Which yields the solution\n",
    "$$ B'(q^*)=C'(q^*)=p^* $$\n",
    "Where $p^*$ is the optimal price for the environmental good.\n",
    "\n",
    "Consider a functional form with no uncertainty:\n",
    "* $B'(q) = a-b \\cdot q $\n",
    "* $C'(q) = c+d \\cdot q $"
   ]
  },
  {
   "cell_type": "markdown",
   "metadata": {},
   "source": [
    "## Graphical analysis\n",
    "\n",
    "If we specify model parameters, we can solve the model graphically"
   ]
  },
  {
   "cell_type": "code",
   "execution_count": 270,
   "metadata": {},
   "outputs": [],
   "source": [
    "#_par means parameter\n",
    "a_par = 30\n",
    "b_par = 0.5\n",
    "c_par = 5\n",
    "d_par = 2\n",
    "\n",
    "def B_derivative(q):\n",
    "    return (a_par - b_par * q)\n",
    "\n",
    "def C_derivative(q):\n",
    "    return (c_par + d_par * q)"
   ]
  },
  {
   "cell_type": "code",
   "execution_count": 271,
   "metadata": {},
   "outputs": [
    {
     "data": {
      "image/png": "[encoded data removed]",
      "text/latex": [
       "$$\\left ( 0, \\quad 38.6\\right )$$"
      ],
      "text/plain": [
       "(0, 38.6)"
      ]
     },
     "execution_count": 271,
     "metadata": {},
     "output_type": "execute_result"
    },
    {
     "data": {
      "image/png": "[encoded data removed]",
      "text/plain": [
       "<Figure size 432x288 with 1 Axes>"
      ]
     },
     "metadata": {
      "needs_background": "light"
     },
     "output_type": "display_data"
    }
   ],
   "source": [
    "q = np.linspace(0, 16, 1000)\n",
    "plt.plot(q, B_derivative(q), label = \"Marginal benefit of environmental good\")\n",
    "plt.plot(q, C_derivative(q), label = \"Marginal cost of environmental good\")\n",
    "plt.title(\"Marginal benefit and cost of environmental good\")\n",
    "plt.legend(frameon = False)\n",
    "plt.xlabel(\"Quantity $q$\")\n",
    "plt.ylabel(\"$B'(q),C'(q)$\")\n",
    "plt.ylim(0)"
   ]
  },
  {
   "cell_type": "markdown",
   "metadata": {},
   "source": [
    "## Analytical analysis\n",
    "We can solve it analytically using sympy"
   ]
  },
  {
   "cell_type": "code",
   "execution_count": 272,
   "metadata": {},
   "outputs": [
    {
     "data": {
      "image/png": "[encoded data removed]",
      "text/latex": [
       "$$a - b q = c + d q$$"
      ],
      "text/plain": [
       "a - b⋅q = c + d⋅q"
      ]
     },
     "execution_count": 272,
     "metadata": {},
     "output_type": "execute_result"
    }
   ],
   "source": [
    "a = sm.symbols('a')\n",
    "b = sm.symbols('b')\n",
    "c = sm.symbols('c')\n",
    "d = sm.symbols('d')\n",
    "q = sm.symbols('q')\n",
    "p = sm.symbols('p')\n",
    "\n",
    "#First we set marginal cost and benefit equal\n",
    "equilibrium = sm.Eq(a-b*q,c+d*q)\n",
    "equilibrium"
   ]
  },
  {
   "cell_type": "code",
   "execution_count": 273,
   "metadata": {},
   "outputs": [
    {
     "data": {
      "image/png": "[encoded data removed]",
      "text/latex": [
       "$$\\left [ \\frac{a - c}{b + d}\\right ]$$"
      ],
      "text/plain": [
       "⎡a - c⎤\n",
       "⎢─────⎥\n",
       "⎣b + d⎦"
      ]
     },
     "execution_count": 273,
     "metadata": {},
     "output_type": "execute_result"
    }
   ],
   "source": [
    "#Solve for q\n",
    "opt_q = sm.solve(equilibrium,q)\n",
    "opt_q"
   ]
  },
  {
   "cell_type": "code",
   "execution_count": 287,
   "metadata": {},
   "outputs": [
    {
     "data": {
      "image/png": "[encoded data removed]",
      "text/latex": [
       "$$\\left [ \\frac{a d + b c}{b + d}\\right ]$$"
      ],
      "text/plain": [
       "⎡a⋅d + b⋅c⎤\n",
       "⎢─────────⎥\n",
       "⎣  b + d  ⎦"
      ]
     },
     "execution_count": 287,
     "metadata": {},
     "output_type": "execute_result"
    }
   ],
   "source": [
    "#Solve for P\n",
    "MC = sm.Eq(c+d*q,p)\n",
    "MC_subs = MC.subs(q,opt_q[0])\n",
    "opt_p = sm.solve(MC_subs,p)\n",
    "opt_p"
   ]
  },
  {
   "cell_type": "markdown",
   "metadata": {},
   "source": [
    "## Numerical analysis\n",
    "\n",
    "We can also solve the model numerically by solving a system of two equations with two unkowns:"
   ]
  },
  {
   "cell_type": "code",
   "execution_count": 275,
   "metadata": {},
   "outputs": [
    {
     "name": "stdout",
     "output_type": "stream",
     "text": [
      "p = 25.0000000000000\n",
      "q = 10.0000000000000\n"
     ]
    }
   ],
   "source": [
    "MC_num = sm.Eq(a_par - b_par * q,p)\n",
    "MB_num = sm.Eq(c_par + d_par * q,p)\n",
    "\n",
    "sol_dict = sm.solve((MC_num,MB_num), (q, p))\n",
    "print(f'p = {sol_dict[p]}')\n",
    "print(f'q = {sol_dict[q]}')"
   ]
  },
  {
   "cell_type": "markdown",
   "metadata": {},
   "source": [
    "## Welfare under policies\n",
    "Aggregate welfare can be defined as:\n",
    "\n",
    "$$ W = \\int_0^{q^{pc}} (a-b\\cdot q) - (c+ d \\cdot q )dq$$\n",
    "\n",
    "Where $q^{pc}$ is the amount produced of the environmental good under policy choice, $pc$. Under allowances  (q-policy) we will denote $q^{pc}=q^f$ for fixed and under pigouvian taxes (p-policy) we will denote this as $p^{pc}=q^t$ for taxes. The welfare difference between these two policy outcomes can be defined as:\n",
    "\n",
    "$$\\Delta W = W_{taxes} - W_{allowances}=  \\int_0^{q^t} (a-b\\cdot q) - (c+ d \\cdot q )dq - \\int_0^{q^f} (a-b\\cdot q) - (c+ d \\cdot q )dq$$\n",
    "\n",
    "Which means if $\\Delta W > 0$ then pigouvian taxes are prefered to allowances, and vice-versa. If $\\Delta W=0$ then the social planner is indifferent."
   ]
  },
  {
   "cell_type": "markdown",
   "metadata": {},
   "source": [
    "## Policy under no uncertainty"
   ]
  },
  {
   "cell_type": "markdown",
   "metadata": {},
   "source": [
    "In the case of no uncertainty, then it's obvious, if we consider pigouvian taxes or allowances as policy instruments, that both can yield the same outcome if set at efficient levels. Policy under no uncertainty can also be viewed as the case of uncertainty, but policy is set *ex post* rather *ex ante*.\n",
    "\n",
    "We know that the optimal outcome is\n",
    "$$ B'(q^*)=C'(q^*)=p^* $$\n",
    "\n",
    "The above solutions shows that the optimal solution under quantity regulation (allowances) is:\n",
    "\n",
    "$q^*=\\frac{a-c}{b+d}$\n",
    "\n",
    "And optimal price under price regulation (pigouvian taxes) is:\n",
    "\n",
    "$p^* = \\frac{ad+bc}{b+d}$\n",
    "\n",
    "and the resulting $q^t$ (i.e. amount produced under taxes) is:"
   ]
  },
  {
   "cell_type": "code",
   "execution_count": 276,
   "metadata": {},
   "outputs": [
    {
     "data": {
      "image/png": "[encoded data removed]",
      "text/latex": [
       "$$\\left [ \\frac{a - c}{b + d}\\right ]$$"
      ],
      "text/plain": [
       "⎡a - c⎤\n",
       "⎢─────⎥\n",
       "⎣b + d⎦"
      ]
     },
     "execution_count": 276,
     "metadata": {},
     "output_type": "execute_result"
    }
   ],
   "source": [
    "MC_sub = MC.subs(p,opt_p[0])\n",
    "\n",
    "q_undertaxes = sm.solve(MC_sub,q)\n",
    "q_undertaxes"
   ]
  },
  {
   "cell_type": "markdown",
   "metadata": {},
   "source": [
    "which coincides with $q^*=q^f$ because of no uncertainty in the model.\n",
    "\n",
    "Welfare under taxes is then:"
   ]
  },
  {
   "cell_type": "code",
   "execution_count": 323,
   "metadata": {},
   "outputs": [
    {
     "data": {
      "image/png": "[encoded data removed]",
      "text/latex": [
       "$$\\frac{\\left(a - c\\right)^{2}}{2 \\left(b + d\\right)}$$"
      ],
      "text/plain": [
       "        2\n",
       " (a - c) \n",
       "─────────\n",
       "2⋅(b + d)"
      ]
     },
     "execution_count": 323,
     "metadata": {},
     "output_type": "execute_result"
    }
   ],
   "source": [
    "welfare_taxes = sm.integrate((a-b*q)-(c+d*q), (q, 0, q_undertaxes))\n",
    "sm.simplify(welfare_taxes)"
   ]
  },
  {
   "cell_type": "markdown",
   "metadata": {},
   "source": [
    "Welfare under allowances is then:"
   ]
  },
  {
   "cell_type": "code",
   "execution_count": 278,
   "metadata": {},
   "outputs": [
    {
     "data": {
      "image/png": "[encoded data removed]",
      "text/latex": [
       "$$\\frac{\\left(a - c\\right)^{2}}{2 \\left(b + d\\right)}$$"
      ],
      "text/plain": [
       "        2\n",
       " (a - c) \n",
       "─────────\n",
       "2⋅(b + d)"
      ]
     },
     "execution_count": 278,
     "metadata": {},
     "output_type": "execute_result"
    }
   ],
   "source": [
    "welfare_allowances = sm.integrate((a-b*q)-(c+d*q), (q, 0, opt_q))\n",
    "sm.simplify(welfare_allowances)"
   ]
  },
  {
   "cell_type": "markdown",
   "metadata": {},
   "source": [
    "$\\Delta W = W_{taxes} - W_{allowances}$ is then:"
   ]
  },
  {
   "cell_type": "code",
   "execution_count": 279,
   "metadata": {},
   "outputs": [
    {
     "data": {
      "image/png": "[encoded data removed]",
      "text/latex": [
       "$$0$$"
      ],
      "text/plain": [
       "0"
      ]
     },
     "execution_count": 279,
     "metadata": {},
     "output_type": "execute_result"
    }
   ],
   "source": [
    "sm.simplify(welfare_taxes - welfare_allowances)"
   ]
  },
  {
   "cell_type": "markdown",
   "metadata": {},
   "source": [
    "Which means they yield the same end outcome, since quantities can be perfectly controlled under taxes aswell as allowances.\n",
    "\n",
    "Numerically we have:"
   ]
  },
  {
   "cell_type": "code",
   "execution_count": 280,
   "metadata": {},
   "outputs": [
    {
     "name": "stdout",
     "output_type": "stream",
     "text": [
      "Welfare under allowances=125.00\n",
      "Welfare under taxes     =125.00\n"
     ]
    }
   ],
   "source": [
    "welfare_allowances_numerically = sm.integrate((a_par-b_par*q)-(c_par+d_par*q), (q, 0, sol_dict[q]))\n",
    "\n",
    "def q_under_taxes_num(p):\n",
    "    return ((p-c_par)/d_par)\n",
    "\n",
    "q_tax = q_under_taxes_num(sol_dict[p])\n",
    "q_tax\n",
    "\n",
    "welfare_taxes_numerically = sm.integrate((a_par-b_par*q)-(c_par+d_par*q), (q, 0, q_tax))\n",
    "\n",
    "print(f'Welfare under allowances={welfare_allowances_numerically:.2f}')\n",
    "print(f'Welfare under taxes     ={welfare_taxes_numerically:.2f}')"
   ]
  },
  {
   "cell_type": "markdown",
   "metadata": {},
   "source": [
    "# P vs. Q with uncorrelated uncertainty"
   ]
  },
  {
   "cell_type": "markdown",
   "metadata": {},
   "source": [
    "Consider the same setup above, but consider the wrinkle to the problem presented in Weitzman(1974), where we're unsure about the benefits and production costs of providing the environmental good *ex ante*:\n",
    "\n",
    "The planner's problem is then to maximize:\n",
    "$$ \\max_q E[B(q,\\eta)]-E[C(q,\\theta)] $$\n",
    "Which yields the first-order-condition:\n",
    "$$ E[B'(q,\\eta)]=E[C'(q,\\theta)] $$\n",
    "Where $p^*$ is the optimal price for the environmental good.\n",
    "\n",
    "Consider a functional form with uncorrelated uncertainty:\n",
    "* $B'(q,\\eta) = a-b \\cdot q + \\eta $\n",
    "* $C'(q,\\theta) = c+d \\cdot q + \\theta $\n",
    "\n",
    "Where we also assume:\n",
    "\n",
    "* $E[\\eta]=E[\\theta]=0$,\n",
    "* $E[\\eta \\theta]=0$,\n",
    "* $E[\\eta^2]=\\sigma_\\eta^2$ and\n",
    "* $E[\\theta^2]=\\sigma_\\theta^2$."
   ]
  },
  {
   "cell_type": "markdown",
   "metadata": {},
   "source": [
    "## Analytical analysis"
   ]
  },
  {
   "cell_type": "code",
   "execution_count": 308,
   "metadata": {},
   "outputs": [
    {
     "data": {
      "image/png": "[encoded data removed]",
      "text/latex": [
       "$$a - b q + \\eta = c + d q + \\theta$$"
      ],
      "text/plain": [
       "a - b⋅q + η = c + d⋅q + θ"
      ]
     },
     "execution_count": 308,
     "metadata": {},
     "output_type": "execute_result"
    }
   ],
   "source": [
    "eta = sm.symbols('eta')\n",
    "theta = sm.symbols('theta')\n",
    "qt = sm.symbols('q^t')\n",
    "\n",
    "\n",
    "#First we set marginal cost and benefit equal under the assumption we know the shock (ex post):\n",
    "equilibrium_post = sm.Eq(a-b*q+eta,c+d*q+theta)\n",
    "equilibrium_post"
   ]
  },
  {
   "cell_type": "code",
   "execution_count": 316,
   "metadata": {},
   "outputs": [
    {
     "data": {
      "image/png": "[encoded data removed]",
      "text/latex": [
       "$$\\left [ \\frac{a - c + \\eta - \\theta}{b + d}\\right ]$$"
      ],
      "text/plain": [
       "⎡a - c + η - θ⎤\n",
       "⎢─────────────⎥\n",
       "⎣    b + d    ⎦"
      ]
     },
     "execution_count": 316,
     "metadata": {},
     "output_type": "execute_result"
    }
   ],
   "source": [
    "#Solve for q (ex post)\n",
    "q_post = sm.solve(equilibrium_post,q)\n",
    "q_post"
   ]
  },
  {
   "cell_type": "code",
   "execution_count": 317,
   "metadata": {},
   "outputs": [
    {
     "data": {
      "image/png": "[encoded data removed]",
      "text/latex": [
       "$$\\left [ \\frac{a d + b c + b \\theta + d \\eta}{b + d}\\right ]$$"
      ],
      "text/plain": [
       "⎡a⋅d + b⋅c + b⋅θ + d⋅η⎤\n",
       "⎢─────────────────────⎥\n",
       "⎣        b + d        ⎦"
      ]
     },
     "execution_count": 317,
     "metadata": {},
     "output_type": "execute_result"
    }
   ],
   "source": [
    "#Solve for P (ex post)\n",
    "MC = sm.Eq(c+d*q+theta,p)\n",
    "MC_subs = MC.subs(q,q_post[0])\n",
    "p_post = sm.solve(MC_subs,p)\n",
    "p_post"
   ]
  },
  {
   "cell_type": "code",
   "execution_count": 318,
   "metadata": {},
   "outputs": [
    {
     "data": {
      "image/png": "[encoded data removed]",
      "text/latex": [
       "$$a - b q = c + d q$$"
      ],
      "text/plain": [
       "a - b⋅q = c + d⋅q"
      ]
     },
     "execution_count": 318,
     "metadata": {},
     "output_type": "execute_result"
    }
   ],
   "source": [
    "#Ex ante we don't know the shocks, so the best we can do is to solve:\n",
    "equilibrium_pre = sm.Eq(a-b*q,c+d*q)\n",
    "equilibrium_pre"
   ]
  },
  {
   "cell_type": "code",
   "execution_count": 315,
   "metadata": {},
   "outputs": [
    {
     "data": {
      "image/png": "[encoded data removed]",
      "text/latex": [
       "$$\\left [ \\frac{a - c}{b + d}\\right ]$$"
      ],
      "text/plain": [
       "⎡a - c⎤\n",
       "⎢─────⎥\n",
       "⎣b + d⎦"
      ]
     },
     "execution_count": 315,
     "metadata": {},
     "output_type": "execute_result"
    }
   ],
   "source": [
    "#Solve for q (ex ante), as in model without uncertainty.  \n",
    "#I.e. the optimal amount produced under uncertainty ex ante\n",
    "q_opt_pre = sm.solve(equilibrium_pre,q)\n",
    "q_opt_pre"
   ]
  },
  {
   "cell_type": "code",
   "execution_count": 330,
   "metadata": {},
   "outputs": [
    {
     "data": {
      "image/png": "[encoded data removed]",
      "text/latex": [
       "$$\\left [ \\frac{a d + b c}{b + d}\\right ]$$"
      ],
      "text/plain": [
       "⎡a⋅d + b⋅c⎤\n",
       "⎢─────────⎥\n",
       "⎣  b + d  ⎦"
      ]
     },
     "execution_count": 330,
     "metadata": {},
     "output_type": "execute_result"
    }
   ],
   "source": [
    "#Solve for p (ex ante)\n",
    "MC = sm.Eq(c+d*q,p)\n",
    "MC_subs = MC.subs(q,q_pre[0])\n",
    "p_pre = sm.solve(MC_subs,p)\n",
    "p_pre"
   ]
  },
  {
   "cell_type": "markdown",
   "metadata": {},
   "source": [
    "Firms will produce up until the point where $p=C'(q,\\theta)$ since they choose their production after they observe the shock, i.e:"
   ]
  },
  {
   "cell_type": "code",
   "execution_count": 333,
   "metadata": {},
   "outputs": [
    {
     "data": {
      "image/png": "[encoded data removed]",
      "text/latex": [
       "$$\\frac{a d + b c}{b + d} = c + d q^{t} + \\theta$$"
      ],
      "text/plain": [
       "a⋅d + b⋅c                 \n",
       "───────── = c + d⋅q__t + θ\n",
       "  b + d                   "
      ]
     },
     "execution_count": 333,
     "metadata": {},
     "output_type": "execute_result"
    }
   ],
   "source": [
    "prod_problem = sm.Eq(p,c+d*qt+theta)\n",
    "prod_prob_sub = prod_problem.subs(p,p_pre[0])\n",
    "prod_prob_sub"
   ]
  },
  {
   "cell_type": "markdown",
   "metadata": {},
   "source": [
    "Which yields the optimal quantity under taxes *ex ante* to be:"
   ]
  },
  {
   "cell_type": "code",
   "execution_count": 334,
   "metadata": {},
   "outputs": [
    {
     "data": {
      "image/png": "[encoded data removed]",
      "text/latex": [
       "$$\\left [ \\frac{a d - b \\theta - c d - d \\theta}{d \\left(b + d\\right)}\\right ]$$"
      ],
      "text/plain": [
       "⎡a⋅d - b⋅θ - c⋅d - d⋅θ⎤\n",
       "⎢─────────────────────⎥\n",
       "⎣      d⋅(b + d)      ⎦"
      ]
     },
     "execution_count": 334,
     "metadata": {},
     "output_type": "execute_result"
    }
   ],
   "source": [
    "opt_pre_q = sm.solve(prod_prob_sub,qt)\n",
    "sm.simplify(opt_pre_q)"
   ]
  },
  {
   "cell_type": "markdown",
   "metadata": {},
   "source": [
    "We note that this is different from our *ex ante* solution for optimal $q$ under allowances:\n",
    "\n",
    "$$ q^f = \\frac{a-c}{b+d}$$ \n",
    "\n",
    "and optimal *ex post* solution:"
   ]
  },
  {
   "cell_type": "code",
   "execution_count": null,
   "metadata": {},
   "outputs": [],
   "source": []
  },
  {
   "cell_type": "markdown",
   "metadata": {},
   "source": [
    "# P vs. Q with correlated uncertainty"
   ]
  },
  {
   "cell_type": "markdown",
   "metadata": {},
   "source": [
    "# Model simulation"
   ]
  },
  {
   "cell_type": "code",
   "execution_count": null,
   "metadata": {},
   "outputs": [],
   "source": []
  },
  {
   "cell_type": "markdown",
   "metadata": {},
   "source": [
    "# Conclusion of model variations"
   ]
  },
  {
   "cell_type": "code",
   "execution_count": null,
   "metadata": {},
   "outputs": [],
   "source": []
  }
 ],
 "metadata": {
  "kernelspec": {
   "display_name": "Python 3",
   "language": "python",
   "name": "python3"
  },
  "language_info": {
   "codemirror_mode": {
    "name": "ipython",
    "version": 3
   },
   "file_extension": ".py",
   "mimetype": "text/x-python",
   "name": "python",
   "nbconvert_exporter": "python",
   "pygments_lexer": "ipython3",
   "version": "3.7.1"
  }
 },
 "nbformat": 4,
 "nbformat_minor": 2
}
