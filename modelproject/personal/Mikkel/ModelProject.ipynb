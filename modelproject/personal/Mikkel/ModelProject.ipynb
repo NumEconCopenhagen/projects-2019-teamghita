{
 "cells": [
  {
   "cell_type": "markdown",
   "metadata": {},
   "source": [
    "# Model Project"
   ]
  },
  {
   "cell_type": "code",
   "execution_count": 269,
   "metadata": {},
   "outputs": [],
   "source": [
    "%matplotlib inline\n",
    "import matplotlib.pyplot as plt\n",
    "import numpy as np\n",
    "import sympy as sm\n",
    "sm.init_printing(use_unicode=True)"
   ]
  },
  {
   "cell_type": "markdown",
   "metadata": {},
   "source": [
    "# P vs. Q without uncertainty"
   ]
  },
  {
   "cell_type": "markdown",
   "metadata": {},
   "source": [
    "## Model setup"
   ]
  },
  {
   "cell_type": "markdown",
   "metadata": {},
   "source": [
    "Consider the optimal provision of an environmental good (Example used in Weitzman (1974) is \"clean air\", i.e. opposite of pollution) in a standard setting, where the marginal benefit of the good is decreasing in quantity and marginal cost of the good is increasing in quantity, i.e. the model can be expressed as:\n",
    "\n",
    "* $B(q)$ is societies benefit in producing commodity $q$.\n",
    "* $B'(q)<0$ is societies marginal benefit in producing commodity $q$.\n",
    "* $C(q)$ is societies cost in producing commodity $q$.\n",
    "* $B'(q)>0$ is societies marginal cost in producing commodity $q$.\n",
    "\n",
    "The planner's problem is then to maximize:\n",
    "$$ \\max_q B(q)-C(q) $$\n",
    "Which yields the solution\n",
    "$$ B'(q^*)=C'(q^*)=p^* $$\n",
    "Where $p^*$ is the optimal price for the environmental good.\n",
    "\n",
    "Consider a functional form with no uncertainty:\n",
    "* $B'(q) = a-b \\cdot q $\n",
    "* $C'(q) = c+d \\cdot q $"
   ]
  },
  {
   "cell_type": "markdown",
   "metadata": {},
   "source": [
    "## Graphical analysis\n",
    "\n",
    "If we specify model parameters, we can solve the model graphically"
   ]
  },
  {
   "cell_type": "code",
   "execution_count": 270,
   "metadata": {},
   "outputs": [],
   "source": [
    "#_par means parameter\n",
    "a_par = 30\n",
    "b_par = 0.5\n",
    "c_par = 5\n",
    "d_par = 2\n",
    "\n",
    "def B_derivative(q):\n",
    "    return (a_par - b_par * q)\n",
    "\n",
    "def C_derivative(q):\n",
    "    return (c_par + d_par * q)"
   ]
  },
  {
   "cell_type": "code",
   "execution_count": 271,
   "metadata": {},
   "outputs": [
    {
     "data": {
      "image/png": "[encoded data removed]",
      "text/latex": [
       "$$\\left ( 0, \\quad 38.6\\right )$$"
      ],
      "text/plain": [
       "(0, 38.6)"
      ]
     },
     "execution_count": 271,
     "metadata": {},
     "output_type": "execute_result"
    },
    {
     "data": {
      "image/png": "[encoded data removed]",
      "text/plain": [
       "<Figure size 432x288 with 1 Axes>"
      ]
     },
     "metadata": {
      "needs_background": "light"
     },
     "output_type": "display_data"
    }
   ],
   "source": [
    "q = np.linspace(0, 16, 1000)\n",
    "plt.plot(q, B_derivative(q), label = \"Marginal benefit of environmental good\")\n",
    "plt.plot(q, C_derivative(q), label = \"Marginal cost of environmental good\")\n",
    "plt.title(\"Marginal benefit and cost of environmental good\")\n",
    "plt.legend(frameon = False)\n",
    "plt.xlabel(\"Quantity $q$\")\n",
    "plt.ylabel(\"$B'(q),C'(q)$\")\n",
    "plt.ylim(0)"
   ]
  },
  {
   "cell_type": "markdown",
   "metadata": {},
   "source": [
    "## Analytical analysis\n",
    "We can solve it analytically using sympy"
   ]
  },
  {
   "cell_type": "code",
   "execution_count": 272,
   "metadata": {},
   "outputs": [
    {
     "data": {
      "image/png": "[encoded data removed]",
      "text/latex": [
       "$$a - b q = c + d q$$"
      ],
      "text/plain": [
       "a - b⋅q = c + d⋅q"
      ]
     },
     "execution_count": 272,
     "metadata": {},
     "output_type": "execute_result"
    }
   ],
   "source": [
    "a = sm.symbols('a')\n",
    "b = sm.symbols('b')\n",
    "c = sm.symbols('c')\n",
    "d = sm.symbols('d')\n",
    "q = sm.symbols('q')\n",
    "p = sm.symbols('p')\n",
    "\n",
    "#First we set marginal cost and benefit equal\n",
    "equilibrium = sm.Eq(a-b*q,c+d*q)\n",
    "equilibrium"
   ]
  },
  {
   "cell_type": "code",
   "execution_count": 273,
   "metadata": {},
   "outputs": [
    {
     "data": {
      "image/png": "[encoded data removed]",
      "text/latex": [
       "$$\\left [ \\frac{a - c}{b + d}\\right ]$$"
      ],
      "text/plain": [
       "⎡a - c⎤\n",
       "⎢─────⎥\n",
       "⎣b + d⎦"
      ]
     },
     "execution_count": 273,
     "metadata": {},
     "output_type": "execute_result"
    }
   ],
   "source": [
    "#Solve for q\n",
    "opt_q = sm.solve(equilibrium,q)\n",
    "opt_q"
   ]
  },
  {
   "cell_type": "code",
   "execution_count": 287,
   "metadata": {},
   "outputs": [
    {
     "data": {
      "image/png": "[encoded data removed]",
      "text/latex": [
       "$$\\left [ \\frac{a d + b c}{b + d}\\right ]$$"
      ],
      "text/plain": [
       "⎡a⋅d + b⋅c⎤\n",
       "⎢─────────⎥\n",
       "⎣  b + d  ⎦"
      ]
     },
     "execution_count": 287,
     "metadata": {},
     "output_type": "execute_result"
    }
   ],
   "source": [
    "#Solve for P\n",
    "MC = sm.Eq(c+d*q,p)\n",
    "MC_subs = MC.subs(q,opt_q[0])\n",
    "opt_p = sm.solve(MC_subs,p)\n",
    "opt_p"
   ]
  },
  {
   "cell_type": "markdown",
   "metadata": {},
   "source": [
    "## Numerical analysis\n",
    "\n",
    "We can also solve the model numerically by solving a system of two equations with two unkowns:"
   ]
  },
  {
   "cell_type": "code",
   "execution_count": 275,
   "metadata": {},
   "outputs": [
    {
     "name": "stdout",
     "output_type": "stream",
     "text": [
      "p = 25.0000000000000\n",
      "q = 10.0000000000000\n"
     ]
    }
   ],
   "source": [
    "MC_num = sm.Eq(a_par - b_par * q,p)\n",
    "MB_num = sm.Eq(c_par + d_par * q,p)\n",
    "\n",
    "sol_dict = sm.solve((MC_num,MB_num), (q, p))\n",
    "print(f'p = {sol_dict[p]}')\n",
    "print(f'q = {sol_dict[q]}')"
   ]
  },
  {
   "cell_type": "markdown",
   "metadata": {},
   "source": [
    "## Welfare under policies\n",
    "Aggregate welfare can be defined as:\n",
    "\n",
    "$$ W = \\int_0^{q^{pc}} (a-b\\cdot q) - (c+ d \\cdot q )dq$$\n",
    "\n",
    "Where $q^{pc}$ is the amount produced of the environmental good under policy choice, $pc$. Under allowances  (q-policy) we will denote $q^{pc}=q^f$ for fixed and under pigouvian taxes (p-policy) we will denote this as $p^{pc}=q^t$ for taxes. The welfare difference between these two policy outcomes can be defined as:\n",
    "\n",
    "$$\\Delta W = W_{taxes} - W_{allowances}=  \\int_0^{q^t} (a-b\\cdot q) - (c+ d \\cdot q )dq - \\int_0^{q^f} (a-b\\cdot q) - (c+ d \\cdot q )dq$$\n",
    "\n",
    "Which means if $\\Delta W > 0$ then pigouvian taxes are prefered to allowances, and vice-versa. If $\\Delta W=0$ then the social planner is indifferent."
   ]
  },
  {
   "cell_type": "markdown",
   "metadata": {},
   "source": [
    "## Policy under no uncertainty"
   ]
  },
  {
   "cell_type": "markdown",
   "metadata": {},
   "source": [
    "In the case of no uncertainty, then it's obvious, if we consider pigouvian taxes or allowances as policy instruments, that both can yield the same outcome if set at efficient levels. Policy under no uncertainty can also be viewed as the case of uncertainty, but policy is set *ex post* rather *ex ante*.\n",
    "\n",
    "We know that the optimal outcome is\n",
    "$$ B'(q^*)=C'(q^*)=p^* $$\n",
    "\n",
    "The above solutions shows that the optimal solution under quantity regulation (allowances) is:\n",
    "\n",
    "$q^*=\\frac{a-c}{b+d}$\n",
    "\n",
    "And optimal price under price regulation (pigouvian taxes) is:\n",
    "\n",
    "$p^* = \\frac{ad+bc}{b+d}$\n",
    "\n",
    "and the resulting $q^t$ (i.e. amount produced under taxes) is:"
   ]
  },
  {
   "cell_type": "code",
   "execution_count": 276,
   "metadata": {},
   "outputs": [
    {
     "data": {
      "image/png": "[encoded data removed]",
      "text/latex": [
       "$$\\left [ \\frac{a - c}{b + d}\\right ]$$"
      ],
      "text/plain": [
       "⎡a - c⎤\n",
       "⎢─────⎥\n",
       "⎣b + d⎦"
      ]
     },
     "execution_count": 276,
     "metadata": {},
     "output_type": "execute_result"
    }
   ],
   "source": [
    "MC_sub = MC.subs(p,opt_p[0])\n",
    "\n",
    "q_undertaxes = sm.solve(MC_sub,q)\n",
    "q_undertaxes"
   ]
  },
  {
   "cell_type": "markdown",
   "metadata": {},
   "source": [
    "which coincides with $q^*=q^f$ because of no uncertainty in the model.\n",
    "\n",
    "Welfare under taxes is then:"
   ]
  },
  {
   "cell_type": "code",
   "execution_count": 323,
   "metadata": {},
   "outputs": [
    {
     "data": {
      "image/png": "[encoded data removed]",
      "text/latex": [
       "$$\\frac{\\left(a - c\\right)^{2}}{2 \\left(b + d\\right)}$$"
      ],
      "text/plain": [
       "        2\n",
       " (a - c) \n",
       "─────────\n",
       "2⋅(b + d)"
      ]
     },
     "execution_count": 323,
     "metadata": {},
     "output_type": "execute_result"
    }
   ],
   "source": [
    "welfare_taxes = sm.integrate((a-b*q)-(c+d*q), (q, 0, q_undertaxes))\n",
    "sm.simplify(welfare_taxes)"
   ]
  },
  {
   "cell_type": "markdown",
   "metadata": {},
   "source": [
    "Welfare under allowances is then:"
   ]
  },
  {
   "cell_type": "code",
   "execution_count": 278,
   "metadata": {},
   "outputs": [
    {
     "data": {
      "image/png": "[encoded data removed]",
      "text/latex": [
       "$$\\frac{\\left(a - c\\right)^{2}}{2 \\left(b + d\\right)}$$"
      ],
      "text/plain": [
       "        2\n",
       " (a - c) \n",
       "─────────\n",
       "2⋅(b + d)"
      ]
     },
     "execution_count": 278,
     "metadata": {},
     "output_type": "execute_result"
    }
   ],
   "source": [
    "welfare_allowances = sm.integrate((a-b*q)-(c+d*q), (q, 0, opt_q))\n",
    "sm.simplify(welfare_allowances)"
   ]
  },
  {
   "cell_type": "markdown",
   "metadata": {},
   "source": [
    "$\\Delta W = W_{taxes} - W_{allowances}$ is then:"
   ]
  },
  {
   "cell_type": "code",
   "execution_count": 279,
   "metadata": {},
   "outputs": [
    {
     "data": {
      "image/png": "[encoded data removed]",
      "text/latex": [
       "$$0$$"
      ],
      "text/plain": [
       "0"
      ]
     },
     "execution_count": 279,
     "metadata": {},
     "output_type": "execute_result"
    }
   ],
   "source": [
    "sm.simplify(welfare_taxes - welfare_allowances)"
   ]
  },
  {
   "cell_type": "markdown",
   "metadata": {},
   "source": [
    "Which means they yield the same end outcome, since quantities can be perfectly controlled under taxes aswell as allowances.\n",
    "\n",
    "Numerically we have:"
   ]
  },
  {
   "cell_type": "code",
   "execution_count": 280,
   "metadata": {},
   "outputs": [
    {
     "name": "stdout",
     "output_type": "stream",
     "text": [
      "Welfare under allowances=125.00\n",
      "Welfare under taxes     =125.00\n"
     ]
    }
   ],
   "source": [
    "welfare_allowances_numerically = sm.integrate((a_par-b_par*q)-(c_par+d_par*q), (q, 0, sol_dict[q]))\n",
    "\n",
    "def q_under_taxes_num(p):\n",
    "    return ((p-c_par)/d_par)\n",
    "\n",
    "q_tax = q_under_taxes_num(sol_dict[p])\n",
    "q_tax\n",
    "\n",
    "welfare_taxes_numerically = sm.integrate((a_par-b_par*q)-(c_par+d_par*q), (q, 0, q_tax))\n",
    "\n",
    "print(f'Welfare under allowances={welfare_allowances_numerically:.2f}')\n",
    "print(f'Welfare under taxes     ={welfare_taxes_numerically:.2f}')"
   ]
  },
  {
   "cell_type": "markdown",
   "metadata": {},
   "source": [
    "# P vs. Q with uncorrelated uncertainty"
   ]
  },
  {
   "cell_type": "markdown",
   "metadata": {},
   "source": [
    "Consider the same setup above, but consider the wrinkle to the problem presented in Weitzman(1974), where we're unsure about the benefits and production costs of providing the environmental good *ex ante*:\n",
    "\n",
    "The planner's problem is then to maximize:\n",
    "$$ \\max_q E[B(q,\\eta)]-E[C(q,\\theta)] $$\n",
    "Which yields the first-order-condition:\n",
    "$$ E[B'(q,\\eta)]=E[C'(q,\\theta)] $$\n",
    "Where $p^*$ is the optimal price for the environmental good.\n",
    "\n",
    "Consider a functional form with uncorrelated uncertainty:\n",
    "* $B'(q,\\eta) = a-b \\cdot q + \\eta $\n",
    "* $C'(q,\\theta) = c+d \\cdot q + \\theta $\n",
    "\n",
    "Where we also assume:\n",
    "\n",
    "* $E[\\eta]=E[\\theta]=0$,\n",
    "* $E[\\eta \\theta]=0$,\n",
    "* $E[\\eta^2]=\\sigma_\\eta^2$ and\n",
    "* $E[\\theta^2]=\\sigma_\\theta^2$."
   ]
  },
  {
   "cell_type": "markdown",
   "metadata": {},
   "source": [
    "## Analytical analysis"
   ]
  },
  {
   "cell_type": "code",
   "execution_count": 308,
   "metadata": {},
   "outputs": [
    {
     "data": {
      "image/png": "[encoded data removed]",
      "text/latex": [
       "$$a - b q + \\eta = c + d q + \\theta$$"
      ],
      "text/plain": [
       "a - b⋅q + η = c + d⋅q + θ"
      ]
     },
     "execution_count": 308,
     "metadata": {},
     "output_type": "execute_result"
    }
   ],
   "source": [
    "eta = sm.symbols('eta')\n",
    "theta = sm.symbols('theta')\n",
    "qt = sm.symbols('q^t')\n",
    "\n",
    "\n",
    "#First we set marginal cost and benefit equal under the assumption we know the shock (ex post):\n",
    "equilibrium_post = sm.Eq(a-b*q+eta,c+d*q+theta)\n",
    "equilibrium_post"
   ]
  },
  {
   "cell_type": "code",
   "execution_count": 316,
   "metadata": {},
   "outputs": [
    {
     "data": {
      "image/png": "[encoded data removed]",
      "text/latex": [
       "$$\\left [ \\frac{a - c + \\eta - \\theta}{b + d}\\right ]$$"
      ],
      "text/plain": [
       "⎡a - c + η - θ⎤\n",
       "⎢─────────────⎥\n",
       "⎣    b + d    ⎦"
      ]
     },
     "execution_count": 316,
     "metadata": {},
     "output_type": "execute_result"
    }
   ],
   "source": [
    "#Solve for q (ex post)\n",
    "q_post = sm.solve(equilibrium_post,q)\n",
    "q_post"
   ]
  },
  {
   "cell_type": "code",
   "execution_count": 317,
   "metadata": {},
   "outputs": [
    {
     "data": {
      "image/png": "[encoded data removed]",
      "text/latex": [
       "$$\\left [ \\frac{a d + b c + b \\theta + d \\eta}{b + d}\\right ]$$"
      ],
      "text/plain": [
       "⎡a⋅d + b⋅c + b⋅θ + d⋅η⎤\n",
       "⎢─────────────────────⎥\n",
       "⎣        b + d        ⎦"
      ]
     },
     "execution_count": 317,
     "metadata": {},
     "output_type": "execute_result"
    }
   ],
   "source": [
    "#Solve for P (ex post)\n",
    "MC = sm.Eq(c+d*q+theta,p)\n",
    "MC_subs = MC.subs(q,q_post[0])\n",
    "p_post = sm.solve(MC_subs,p)\n",
    "p_post"
   ]
  },
  {
   "cell_type": "code",
   "execution_count": 318,
   "metadata": {},
   "outputs": [
    {
     "data": {
      "image/png": "[encoded data removed]",
      "text/latex": [
       "$$a - b q = c + d q$$"
      ],
      "text/plain": [
       "a - b⋅q = c + d⋅q"
      ]
     },
     "execution_count": 318,
     "metadata": {},
     "output_type": "execute_result"
    }
   ],
   "source": [
    "#Ex ante we don't know the shocks, so the best we can do is to solve:\n",
    "equilibrium_pre = sm.Eq(a-b*q,c+d*q)\n",
    "equilibrium_pre"
   ]
  },
  {
   "cell_type": "code",
   "execution_count": 315,
   "metadata": {},
   "outputs": [
    {
     "data": {
      "image/png": "[encoded data removed]",
      "text/latex": [
       "$$\\left [ \\frac{a - c}{b + d}\\right ]$$"
      ],
      "text/plain": [
       "⎡a - c⎤\n",
       "⎢─────⎥\n",
       "⎣b + d⎦"
      ]
     },
     "execution_count": 315,
     "metadata": {},
     "output_type": "execute_result"
    }
   ],
   "source": [
    "#Solve for q (ex ante), as in model without uncertainty.  \n",
    "#I.e. the optimal amount produced under uncertainty ex ante\n",
    "q_opt_pre = sm.solve(equilibrium_pre,q)\n",
    "q_opt_pre"
   ]
  },
  {
   "cell_type": "code",
   "execution_count": 330,
   "metadata": {},
   "outputs": [
    {
     "data": {
      "image/png": "[encoded data removed]",
      "text/latex": [
       "$$\\left [ \\frac{a d + b c}{b + d}\\right ]$$"
      ],
      "text/plain": [
       "⎡a⋅d + b⋅c⎤\n",
       "⎢─────────⎥\n",
       "⎣  b + d  ⎦"
      ]
     },
     "execution_count": 330,
     "metadata": {},
     "output_type": "execute_result"
    }
   ],
   "source": [
    "#Solve for p (ex ante)\n",
    "MC = sm.Eq(c+d*q,p)\n",
    "MC_subs = MC.subs(q,q_pre[0])\n",
    "p_pre = sm.solve(MC_subs,p)\n",
    "p_pre"
   ]
  },
  {
   "cell_type": "markdown",
   "metadata": {},
   "source": [
    "Firms will produce up until the point where $p=C'(q,\\theta)$ since they choose their production after they observe the shock, i.e:"
   ]
  },
  {
   "cell_type": "code",
   "execution_count": 333,
   "metadata": {},
   "outputs": [
    {
     "data": {
      "image/png": "[encoded data removed]",
      "text/latex": [
       "$$\\frac{a d + b c}{b + d} = c + d q^{t} + \\theta$$"
      ],
      "text/plain": [
       "a⋅d + b⋅c                 \n",
       "───────── = c + d⋅q__t + θ\n",
       "  b + d                   "
      ]
     },
     "execution_count": 333,
     "metadata": {},
     "output_type": "execute_result"
    }
   ],
   "source": [
    "prod_problem = sm.Eq(p,c+d*qt+theta)\n",
    "prod_prob_sub = prod_problem.subs(p,p_pre[0])\n",
    "prod_prob_sub"
   ]
  },
  {
   "cell_type": "markdown",
   "metadata": {},
   "source": [
    "Which yields the optimal quantity under taxes *ex ante* to be:"
   ]
  },
  {
   "cell_type": "code",
   "execution_count": 347,
   "metadata": {},
   "outputs": [
    {
     "data": {
      "image/png": "[encoded data removed]",
      "text/latex": [
       "$$\\left [ \\frac{a d - b \\theta - c d - d \\theta}{d \\left(b + d\\right)}\\right ]$$"
      ],
      "text/plain": [
       "⎡a⋅d - b⋅θ - c⋅d - d⋅θ⎤\n",
       "⎢─────────────────────⎥\n",
       "⎣      d⋅(b + d)      ⎦"
      ]
     },
     "execution_count": 347,
     "metadata": {},
     "output_type": "execute_result"
    }
   ],
   "source": [
    "opt_pre_q_taxes = sm.solve(prod_prob_sub,qt)\n",
    "opt_pre_q_taxes"
   ]
  },
  {
   "cell_type": "markdown",
   "metadata": {},
   "source": [
    "We note that this is different from our *ex ante* solution for optimal $q$ under allowances:\n",
    "\n",
    "$$ q^f = \\frac{a-c}{b+d}$$ \n",
    "\n",
    "and optimal *ex post* solution:\n",
    "\n",
    "$$ q^{post} = \\frac{a-c+\\eta-\\theta}{b+d}$$"
   ]
  },
  {
   "cell_type": "markdown",
   "metadata": {},
   "source": [
    "## Welfare under policies\n",
    "The welfare difference between these two policy outcomes can be defined as under uncorrelated uncertainty:\n",
    "\n",
    "$$\\Delta W = W_{taxes} - W_{allowances}=  \\int_0^{q^t} (a-b\\cdot q+\\eta) - (c+ d \\cdot q + \\theta)dq - \\int_0^{q^f} (a-b\\cdot q + \\eta) - (c+ d \\cdot q + \\theta )dq$$"
   ]
  },
  {
   "cell_type": "markdown",
   "metadata": {},
   "source": [
    "## Policy choice under uncorrelated uncertainty\n",
    "\n",
    "Policy choice under uncorrelated uncertainty is harder to analyze, since taxes and allowances are set *ex ante* when shocks aren't know, hence the variance of the shocks are important when finding optimal policy.\n"
   ]
  },
  {
   "cell_type": "code",
   "execution_count": 350,
   "metadata": {},
   "outputs": [
    {
     "data": {
      "image/png": "[encoded data removed]",
      "text/latex": [
       "$$\\frac{\\left(- a d + b \\theta + c d + d \\theta\\right) \\left(a d - b \\theta - c d - d \\theta - 2 d \\left(a - c + \\eta - \\theta\\right)\\right)}{2 d^{2} \\left(b + d\\right)}$$"
      ],
      "text/plain": [
       "(-a⋅d + b⋅θ + c⋅d + d⋅θ)⋅(a⋅d - b⋅θ - c⋅d - d⋅θ - 2⋅d⋅(a - c + η - θ))\n",
       "──────────────────────────────────────────────────────────────────────\n",
       "                                2                                     \n",
       "                             2⋅d ⋅(b + d)                             "
      ]
     },
     "execution_count": 350,
     "metadata": {},
     "output_type": "execute_result"
    }
   ],
   "source": [
    "welfare_taxes = sm.integrate((a-b*q+eta)-(c+d*q+theta), (q, 0, opt_pre_q))\n",
    "sm.simplify(welfare_taxes)"
   ]
  },
  {
   "cell_type": "code",
   "execution_count": 349,
   "metadata": {},
   "outputs": [
    {
     "data": {
      "image/png": "[encoded data removed]",
      "text/latex": [
       "$$\\frac{\\left(a - c\\right) \\left(a - c + 2 \\eta - 2 \\theta\\right)}{2 \\left(b + d\\right)}$$"
      ],
      "text/plain": [
       "(a - c)⋅(a - c + 2⋅η - 2⋅θ)\n",
       "───────────────────────────\n",
       "         2⋅(b + d)         "
      ]
     },
     "execution_count": 349,
     "metadata": {},
     "output_type": "execute_result"
    }
   ],
   "source": [
    "welfare_allowances = sm.integrate((a-b*q+eta)-(c+d*q+theta), (q, 0, opt_q))\n",
    "sm.simplify(welfare_allowances)"
   ]
  },
  {
   "cell_type": "code",
   "execution_count": 351,
   "metadata": {},
   "outputs": [
    {
     "data": {
      "image/png": "[encoded data removed]",
      "text/latex": [
       "$$- \\frac{\\theta \\left(b \\theta + 2 d \\eta - d \\theta\\right)}{2 d^{2}}$$"
      ],
      "text/plain": [
       "-θ⋅(b⋅θ + 2⋅d⋅η - d⋅θ) \n",
       "───────────────────────\n",
       "             2         \n",
       "          2⋅d          "
      ]
     },
     "execution_count": 351,
     "metadata": {},
     "output_type": "execute_result"
    }
   ],
   "source": [
    "sm.simplify(welfare_taxes - welfare_allowances)"
   ]
  },
  {
   "cell_type": "markdown",
   "metadata": {},
   "source": [
    "Expected difference is then:\n",
    "$$ E[\\Delta W] = E\\left[-\\frac{\\theta(b \\theta+2 d \\eta-d \\theta)}{2 d^{2}} \\right] = E\\left[-\\frac{b \\theta^2 + 2 d \\eta \\theta - d \\theta^2}{2d^2} \\right]= E\\left[ \\frac{\\theta^2}{2d} - - \\frac{2d\\eta \\theta}{2d^2}- \\frac{b \\theta^2}{2d^2} \\right] = \\frac{\\sigma_\\theta^2}{2d}-\\frac{\\sigma_\\theta^2 b}{2d^2}$$"
   ]
  },
  {
   "cell_type": "markdown",
   "metadata": {},
   "source": [
    "Three graphs depicting how b, sigma and d has an effect"
   ]
  },
  {
   "cell_type": "code",
   "execution_count": 62,
   "metadata": {},
   "outputs": [
    {
     "data": {
      "text/html": [
       "\n",
       "\n",
       "\n",
       "\n",
       "\n",
       "\n",
       "  <div class=\"bk-root\" id=\"257526b7-232a-4029-86fb-d30611c1e7e0\"></div>\n"
      ]
     },
     "metadata": {},
     "output_type": "display_data"
    },
    {
     "data": {
      "application/javascript": [
       "(function(root) {\n",
       "  function embed_document(root) {\n",
       "    \n",
       "  var docs_json = {\"b4d97290-eca8-4f76-8504-782ede45c97b\":{\"roots\":{\"references\":[{\"attributes\":{\"children\":[{\"id\":\"27382\",\"subtype\":\"Figure\",\"type\":\"Plot\"},{\"id\":\"27424\",\"type\":\"WidgetBox\"}]},\"id\":\"27425\",\"type\":\"Column\"},{\"attributes\":{\"overlay\":{\"id\":\"27409\",\"type\":\"BoxAnnotation\"}},\"id\":\"27403\",\"type\":\"BoxZoomTool\"},{\"attributes\":{\"data_source\":{\"id\":\"27381\",\"type\":\"ColumnDataSource\"},\"glyph\":{\"id\":\"27417\",\"type\":\"Line\"},\"hover_glyph\":null,\"muted_glyph\":null,\"nonselection_glyph\":{\"id\":\"27418\",\"type\":\"Line\"},\"selection_glyph\":null,\"view\":{\"id\":\"27420\",\"type\":\"CDSView\"}},\"id\":\"27419\",\"type\":\"GlyphRenderer\"},{\"attributes\":{},\"id\":\"27964\",\"type\":\"BasicTickFormatter\"},{\"attributes\":{\"callback\":{\"id\":\"27421\",\"type\":\"CustomJS\"},\"end\":10,\"start\":0,\"step\":0.1,\"title\":\"Slider1\",\"value\":2},\"id\":\"27422\",\"type\":\"Slider\"},{\"attributes\":{},\"id\":\"27966\",\"type\":\"BasicTickFormatter\"},{\"attributes\":{\"callback\":null},\"id\":\"27383\",\"type\":\"DataRange1d\"},{\"attributes\":{},\"id\":\"27404\",\"type\":\"SaveTool\"},{\"attributes\":{},\"id\":\"27397\",\"type\":\"BasicTicker\"},{\"attributes\":{},\"id\":\"27387\",\"type\":\"LinearScale\"},{\"attributes\":{\"source\":{\"id\":\"27381\",\"type\":\"ColumnDataSource\"}},\"id\":\"27420\",\"type\":\"CDSView\"},{\"attributes\":{\"formatter\":{\"id\":\"27966\",\"type\":\"BasicTickFormatter\"},\"plot\":{\"id\":\"27382\",\"subtype\":\"Figure\",\"type\":\"Plot\"},\"ticker\":{\"id\":\"27397\",\"type\":\"BasicTicker\"}},\"id\":\"27396\",\"type\":\"LinearAxis\"},{\"attributes\":{\"below\":[{\"id\":\"27391\",\"type\":\"LinearAxis\"}],\"left\":[{\"id\":\"27396\",\"type\":\"LinearAxis\"}],\"plot_height\":400,\"plot_width\":400,\"renderers\":[{\"id\":\"27391\",\"type\":\"LinearAxis\"},{\"id\":\"27395\",\"type\":\"Grid\"},{\"id\":\"27396\",\"type\":\"LinearAxis\"},{\"id\":\"27400\",\"type\":\"Grid\"},{\"id\":\"27409\",\"type\":\"BoxAnnotation\"},{\"id\":\"27419\",\"type\":\"GlyphRenderer\"}],\"title\":{\"id\":\"27962\",\"type\":\"Title\"},\"toolbar\":{\"id\":\"27407\",\"type\":\"Toolbar\"},\"x_range\":{\"id\":\"27383\",\"type\":\"DataRange1d\"},\"x_scale\":{\"id\":\"27387\",\"type\":\"LinearScale\"},\"y_range\":{\"id\":\"27385\",\"type\":\"DataRange1d\"},\"y_scale\":{\"id\":\"27389\",\"type\":\"LinearScale\"}},\"id\":\"27382\",\"subtype\":\"Figure\",\"type\":\"Plot\"},{\"attributes\":{},\"id\":\"27406\",\"type\":\"HelpTool\"},{\"attributes\":{\"formatter\":{\"id\":\"27964\",\"type\":\"BasicTickFormatter\"},\"plot\":{\"id\":\"27382\",\"subtype\":\"Figure\",\"type\":\"Plot\"},\"ticker\":{\"id\":\"27392\",\"type\":\"BasicTicker\"}},\"id\":\"27391\",\"type\":\"LinearAxis\"},{\"attributes\":{},\"id\":\"27389\",\"type\":\"LinearScale\"},{\"attributes\":{\"callback\":null},\"id\":\"27385\",\"type\":\"DataRange1d\"},{\"attributes\":{},\"id\":\"27401\",\"type\":\"PanTool\"},{\"attributes\":{\"callback\":{\"id\":\"27421\",\"type\":\"CustomJS\"},\"end\":10,\"start\":0,\"step\":0.1,\"title\":\"Slider2\",\"value\":1},\"id\":\"27423\",\"type\":\"Slider\"},{\"attributes\":{\"callback\":null,\"data\":{\"x\":{\"__ndarray__\":\"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\",\"dtype\":\"float64\",\"shape\":[500]},\"y\":{\"__ndarray__\":\"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\",\"dtype\":\"float64\",\"shape\":[500]}},\"selected\":{\"id\":\"27969\",\"type\":\"Selection\"},\"selection_policy\":{\"id\":\"27968\",\"type\":\"UnionRenderers\"}},\"id\":\"27381\",\"type\":\"ColumnDataSource\"},{\"attributes\":{\"plot\":null,\"text\":\"\"},\"id\":\"27962\",\"type\":\"Title\"},{\"attributes\":{\"active_drag\":\"auto\",\"active_inspect\":\"auto\",\"active_multi\":null,\"active_scroll\":\"auto\",\"active_tap\":\"auto\",\"tools\":[{\"id\":\"27401\",\"type\":\"PanTool\"},{\"id\":\"27402\",\"type\":\"WheelZoomTool\"},{\"id\":\"27403\",\"type\":\"BoxZoomTool\"},{\"id\":\"27404\",\"type\":\"SaveTool\"},{\"id\":\"27405\",\"type\":\"ResetTool\"},{\"id\":\"27406\",\"type\":\"HelpTool\"}]},\"id\":\"27407\",\"type\":\"Toolbar\"},{\"attributes\":{\"bottom_units\":\"screen\",\"fill_alpha\":{\"value\":0.5},\"fill_color\":{\"value\":\"lightgrey\"},\"left_units\":\"screen\",\"level\":\"overlay\",\"line_alpha\":{\"value\":1.0},\"line_color\":{\"value\":\"black\"},\"line_dash\":[4,4],\"line_width\":{\"value\":2},\"plot\":null,\"render_mode\":\"css\",\"right_units\":\"screen\",\"top_units\":\"screen\"},\"id\":\"27409\",\"type\":\"BoxAnnotation\"},{\"attributes\":{\"args\":{\"slider1\":{\"id\":\"27422\",\"type\":\"Slider\"},\"slider2\":{\"id\":\"27423\",\"type\":\"Slider\"},\"source\":{\"id\":\"27381\",\"type\":\"ColumnDataSource\"}},\"code\":\"\\n    var data = source.data;\\n    var b = slider1.value;\\n    var d = slider2.value;\\n    x = data['x'];\\n    for (var i = 0; i < x.length; i++) {\\n        data.y[i] = ((x[i]*data.x[i])/(2*d))-((data.x[i]*data.x[i]*b)/(2*d*d));\\n    }\\n    source.change.emit();\\n\"},\"id\":\"27421\",\"type\":\"CustomJS\"},{\"attributes\":{\"line_alpha\":0.6,\"line_color\":\"#1f77b4\",\"line_width\":3,\"x\":{\"field\":\"x\"},\"y\":{\"field\":\"y\"}},\"id\":\"27417\",\"type\":\"Line\"},{\"attributes\":{\"line_alpha\":0.1,\"line_color\":\"#1f77b4\",\"line_width\":3,\"x\":{\"field\":\"x\"},\"y\":{\"field\":\"y\"}},\"id\":\"27418\",\"type\":\"Line\"},{\"attributes\":{\"dimension\":1,\"plot\":{\"id\":\"27382\",\"subtype\":\"Figure\",\"type\":\"Plot\"},\"ticker\":{\"id\":\"27397\",\"type\":\"BasicTicker\"}},\"id\":\"27400\",\"type\":\"Grid\"},{\"attributes\":{\"children\":[{\"id\":\"27422\",\"type\":\"Slider\"},{\"id\":\"27423\",\"type\":\"Slider\"}]},\"id\":\"27424\",\"type\":\"WidgetBox\"},{\"attributes\":{},\"id\":\"27969\",\"type\":\"Selection\"},{\"attributes\":{},\"id\":\"27402\",\"type\":\"WheelZoomTool\"},{\"attributes\":{},\"id\":\"27392\",\"type\":\"BasicTicker\"},{\"attributes\":{},\"id\":\"27405\",\"type\":\"ResetTool\"},{\"attributes\":{\"plot\":{\"id\":\"27382\",\"subtype\":\"Figure\",\"type\":\"Plot\"},\"ticker\":{\"id\":\"27392\",\"type\":\"BasicTicker\"}},\"id\":\"27395\",\"type\":\"Grid\"},{\"attributes\":{},\"id\":\"27968\",\"type\":\"UnionRenderers\"}],\"root_ids\":[\"27425\"]},\"title\":\"Bokeh Application\",\"version\":\"1.0.2\"}};\n",
       "  var render_items = [{\"docid\":\"b4d97290-eca8-4f76-8504-782ede45c97b\",\"roots\":{\"27425\":\"257526b7-232a-4029-86fb-d30611c1e7e0\"}}];\n",
       "  root.Bokeh.embed.embed_items_notebook(docs_json, render_items);\n",
       "\n",
       "  }\n",
       "  if (root.Bokeh !== undefined) {\n",
       "    embed_document(root);\n",
       "  } else {\n",
       "    var attempts = 0;\n",
       "    var timer = setInterval(function(root) {\n",
       "      if (root.Bokeh !== undefined) {\n",
       "        embed_document(root);\n",
       "        clearInterval(timer);\n",
       "      }\n",
       "      attempts++;\n",
       "      if (attempts > 100) {\n",
       "        console.log(\"Bokeh: ERROR: Unable to run BokehJS code because BokehJS library is missing\");\n",
       "        clearInterval(timer);\n",
       "      }\n",
       "    }, 10, root)\n",
       "  }\n",
       "})(window);"
      ],
      "application/vnd.bokehjs_exec.v0+json": ""
     },
     "metadata": {
      "application/vnd.bokehjs_exec.v0+json": {
       "id": "27425"
      }
     },
     "output_type": "display_data"
    }
   ],
   "source": [
    "import numpy as np\n",
    "from bokeh.layouts import row, widgetbox\n",
    "from bokeh.models import CustomJS, Slider\n",
    "from bokeh.plotting import figure, output_file, show, ColumnDataSource\n",
    "\n",
    "\n",
    "x = np.linspace(0,10,500)\n",
    "y = ((x*x)/(2*3))-((x*x*2)/(2*3*3))\n",
    "s1=1\n",
    "s2=1\n",
    "\n",
    "source = ColumnDataSource(data=dict(x=x,y=y))\n",
    "\n",
    "plot = Figure(plot_width=400, plot_height=400)\n",
    "plot.line('x', 'y', source=source, line_width=3, line_alpha=0.6)\n",
    "\n",
    "callback = CustomJS(args=dict(source=source), code=\"\"\"\n",
    "    var data = source.data;\n",
    "    var b = slider1.value;\n",
    "    var d = slider2.value;\n",
    "    x = data['x'];\n",
    "    for (var i = 0; i < x.length; i++) {\n",
    "        data.y[i] = ((x[i]*data.x[i])/(2*d))-((data.x[i]*data.x[i]*b)/(2*d*d));\n",
    "    }\n",
    "    source.change.emit();\n",
    "\"\"\")\n",
    "b = Slider(start=0, end=10, value=2, step=0.1,\n",
    "                    title=\"Slider1\", callback=callback)\n",
    "callback.args[\"slider1\"] = b\n",
    "\n",
    "d = Slider(start=0, end=10, value=1, step=0.1,\n",
    "                    title=\"Slider2\", callback=callback)\n",
    "callback.args[\"slider2\"] = d\n",
    "\n",
    "layout = column(plot, \n",
    "                widgetbox(b, d)\n",
    "               )\n",
    "\n",
    "show(layout)"
   ]
  },
  {
   "cell_type": "code",
   "execution_count": 69,
   "metadata": {},
   "outputs": [
    {
     "data": {
      "image/png": "[encoded data removed]",
      "text/plain": [
       "<Figure size 432x288 with 2 Axes>"
      ]
     },
     "metadata": {
      "needs_background": "light"
     },
     "output_type": "display_data"
    }
   ],
   "source": [
    "from mpl_toolkits.mplot3d import Axes3D\n",
    "import matplotlib.pyplot as plt\n",
    "from matplotlib import cm\n",
    "from matplotlib.ticker import LinearLocator, FormatStrFormatter\n",
    "import numpy as np\n",
    "\n",
    "\n",
    "fig = plt.figure()\n",
    "ax = fig.gca(projection='3d')\n",
    "\n",
    "# Make data.\n",
    "X = np.arange(0, 10, 0.1)\n",
    "Y = np.arange(0, 2, 0.01)\n",
    "X, Y = np.meshgrid(X, Y)\n",
    "R = np.sqrt(X**2 + Y**2)\n",
    "Z = np.sin(R)\n",
    "\n",
    "# Plot the surface.*\n",
    "surf = ax.plot_surface(X, Y, Z, cmap=cm.coolwarm,\n",
    "                       linewidth=0, antialiased=False)\n",
    "\n",
    "# Customize the z axis.\n",
    "ax.set_zlim(-1.01, 1.01)\n",
    "ax.zaxis.set_major_locator(LinearLocator(10))\n",
    "ax.zaxis.set_major_formatter(FormatStrFormatter('%.02f'))\n",
    "\n",
    "# Add a color bar which maps values to colors.\n",
    "fig.colorbar(surf, shrink=0.5, aspect=5)\n",
    "\n",
    "plt.show()"
   ]
  },
  {
   "cell_type": "markdown",
   "metadata": {},
   "source": [
    "# P vs. Q with correlated uncertainty"
   ]
  },
  {
   "cell_type": "markdown",
   "metadata": {},
   "source": [
    "# Model simulation"
   ]
  },
  {
   "cell_type": "code",
   "execution_count": 352,
   "metadata": {},
   "outputs": [],
   "source": [
    "#Simuler sidste variant evt. interaktiv, hvor man kan vælge model type, korrelation og størrelse af shocks og parametre"
   ]
  },
  {
   "cell_type": "markdown",
   "metadata": {},
   "source": [
    "# Conclusion of model variations"
   ]
  },
  {
   "cell_type": "code",
   "execution_count": null,
   "metadata": {},
   "outputs": [],
   "source": []
  }
 ],
 "metadata": {
  "kernelspec": {
   "display_name": "Python 3",
   "language": "python",
   "name": "python3"
  },
  "language_info": {
   "codemirror_mode": {
    "name": "ipython",
    "version": 3
   },
   "file_extension": ".py",
   "mimetype": "text/x-python",
   "name": "python",
   "nbconvert_exporter": "python",
   "pygments_lexer": "ipython3",
   "version": "3.7.1"
  }
 },
 "nbformat": 4,
 "nbformat_minor": 2
}
