{
 "cells": [
  {
   "cell_type": "markdown",
   "metadata": {},
   "source": [
    "#  2. AS-AD Model\n",
    "## 2.0 Model Setup"
   ]
  },
  {
   "cell_type": "code",
   "execution_count": 356,
   "metadata": {},
   "outputs": [],
   "source": [
    "import numpy as np\n",
    "import sympy as sm\n",
    "%matplotlib inline\n",
    "import matplotlib.pyplot as plt "
   ]
  },
  {
   "cell_type": "markdown",
   "metadata": {},
   "source": [
    "In the given AS-AD model, the goods market equilibrium is:\n",
    "$$ y_{t} = -\\alpha r_{t} + v_{t} $$\n",
    "\n",
    "The Central Banks Taylor rule is:\n",
    "$$ i_{t} = \\pi_{t+1}^{e} + h \\pi_{t} + b y_{t}$$\n",
    "\n",
    "And the ex ante real interest rate is:\n",
    "$$ r_{t} = i_{t} - \\pi_{t+1}^{e} $$\n",
    "\n",
    "Those can be combined to yield the AD-curve:\n",
    "$$ \\pi_{t} = \\frac{1}{h\\alpha}\\left[v_{t} - (1+b\\alpha)y_{t}\\right]$$\n",
    "\n",
    "The short-run aggregate supply curve (SRAS) is given as:\n",
    "$$ \\pi_{t} = \\pi_{t}^{e} + \\gamma y_{t} + s_{t}$$\n",
    "\n",
    "And the inflation expectations are adaptive and given by:\n",
    "$$ \\pi_{t}^{e} = \\phi\\pi_{t-1}^{e} + (1-\\phi)\\pi_{t-1}$$\n",
    "\n",
    "The inflation expectations and the SRAS can be combined to express the SRAS-curve as:\n",
    "$$ \\pi_{t} = \\pi_{t-1} + \\gamma y_{t} - \\phi\\gamma y_{t-1} + s_{t} - \\phi s_{t-1} $$"
   ]
  },
  {
   "cell_type": "markdown",
   "metadata": {},
   "source": [
    "We define all the symbols we will be using in sympy:"
   ]
  },
  {
   "cell_type": "code",
   "execution_count": 357,
   "metadata": {},
   "outputs": [],
   "source": [
    "#Without defining our symbols in sympy, we cannot do the calculations\n",
    "alpha = sm.symbols('alpha')\n",
    "h= sm.symbols('h')\n",
    "b= sm.symbols('b')\n",
    "phi= sm.symbols('phi')\n",
    "gamma= sm.symbols('gamma')\n",
    "pit=sm.symbols('pi_t')\n",
    "pi1t=sm.symbols('pi_t-1')\n",
    "vt=sm.symbols('v_t')\n",
    "yt=sm.symbols('y_t')\n",
    "y1t=sm.symbols('y_t-1')\n",
    "st=sm.symbols('s_t')\n",
    "s1t=sm.symbols('s_t-1')\n",
    "delta=sm.symbols('delta')\n",
    "omega=sm.symbols('omega')\n",
    "xt= sm.symbols('x_t')\n",
    "ct= sm.symbols('c_t')\n",
    "\n",
    "#We Ensure that the output is in math notation\n",
    "sm.init_printing(use_unicode=True) "
   ]
  },
  {
   "cell_type": "markdown",
   "metadata": {},
   "source": [
    "The parameters of the model are:"
   ]
  },
  {
   "cell_type": "code",
   "execution_count": 358,
   "metadata": {},
   "outputs": [],
   "source": [
    "par = {}\n",
    "par['alpha'] = 5.76\n",
    "par['h'] = 0.5\n",
    "par['b'] = 0.5\n",
    "par['phi'] = 0\n",
    "par['gamma'] = 0.075"
   ]
  },
  {
   "cell_type": "markdown",
   "metadata": {},
   "source": [
    "## 2.1 Question 1"
   ]
  },
  {
   "cell_type": "markdown",
   "metadata": {},
   "source": [
    "**Question 1:** Use the ``sympy`` module to solve for the equilibrium values of output, $y_t$, and inflation, $\\pi_t$, (where AD = SRAS) given the parameters ($\\alpha$, $h$, $b$, $\\alpha$, $\\gamma$) and $y_{t-1}$ , $\\pi_{t-1}$, $v_t$, $s_t$, and $s_{t-1}$."
   ]
  },
  {
   "cell_type": "markdown",
   "metadata": {},
   "source": [
    "We define the AD- and SRAS-curve:"
   ]
  },
  {
   "cell_type": "code",
   "execution_count": 359,
   "metadata": {},
   "outputs": [
    {
     "data": {
      "image/png": "[encoded data removed]",
      "text/latex": [
       "$$\\pi_{t} = - \\gamma \\phi y_{t-1} + \\gamma y_{t} - \\phi s_{t-1} + \\pi_{t-1} + s_{t}$$"
      ],
      "text/plain": [
       "πₜ = -γ⋅φ⋅yₜ₋₁ + γ⋅yₜ - φ⋅sₜ₋₁ + πₜ₋₁ + sₜ"
      ]
     },
     "execution_count": 359,
     "metadata": {},
     "output_type": "execute_result"
    }
   ],
   "source": [
    "#we define the AD curve\n",
    "AD=sm.Eq(pit,(vt-(1+b*alpha)*yt)/(h*alpha))\n",
    "\n",
    "#we define the SRAS curve\n",
    "SRAS=sm.Eq(pit,pi1t+gamma*yt-phi*gamma*y1t+st-phi*s1t)\n",
    "SRAS"
   ]
  },
  {
   "cell_type": "markdown",
   "metadata": {},
   "source": [
    "We solve the equation system w.r.t. output- and inflation gap"
   ]
  },
  {
   "cell_type": "code",
   "execution_count": 360,
   "metadata": {},
   "outputs": [
    {
     "data": {
      "image/png": "[encoded data removed]",
      "text/latex": [
       "$$\\left \\{ \\pi_{t} : \\frac{\\gamma v_{t} - \\left(\\alpha b + 1\\right) \\left(\\gamma \\phi y_{t-1} + \\phi s_{t-1} - \\pi_{t-1} - s_{t}\\right)}{\\alpha b + \\alpha \\gamma h + 1}, \\quad y_{t} : \\frac{\\alpha \\gamma h \\phi y_{t-1} + \\alpha h \\phi s_{t-1} - \\alpha h \\pi_{t-1} - \\alpha h s_{t} + v_{t}}{\\alpha b + \\alpha \\gamma h + 1}\\right \\}$$"
      ],
      "text/plain": [
       "⎧    γ⋅vₜ - (α⋅b + 1)⋅(γ⋅φ⋅yₜ₋₁ + φ⋅sₜ₋₁ - πₜ₋₁ - sₜ)      α⋅γ⋅h⋅φ⋅yₜ₋₁ + α⋅h⋅\n",
       "⎨πₜ: ────────────────────────────────────────────────, yₜ: ───────────────────\n",
       "⎩                    α⋅b + α⋅γ⋅h + 1                                        α⋅\n",
       "\n",
       "φ⋅sₜ₋₁ - α⋅h⋅πₜ₋₁ - α⋅h⋅sₜ + vₜ⎫\n",
       "───────────────────────────────⎬\n",
       "b + α⋅γ⋅h + 1                  ⎭"
      ]
     },
     "execution_count": 360,
     "metadata": {},
     "output_type": "execute_result"
    }
   ],
   "source": [
    "#We solve the equation system with use of the sm.solve function\n",
    "AD_SRAS_EQ=sm.solve((AD,SRAS),(yt,pit))\n",
    "\n",
    "#We print the result\n",
    "AD_SRAS_EQ"
   ]
  },
  {
   "cell_type": "code",
   "execution_count": 361,
   "metadata": {},
   "outputs": [
    {
     "data": {
      "image/png": "[encoded data removed]",
      "text/latex": [
       "$$\\left \\{ \\pi_{t} : 0.947265625 \\pi_{t-1} + 0.947265625 s_{t} + 0.018310546875 v_{t}, \\quad y_{t} : - 0.703125 \\pi_{t-1} - 0.703125 s_{t} + 0.244140625 v_{t}\\right \\}$$"
      ],
      "text/plain": [
       "{πₜ: 0.947265625⋅πₜ₋₁ + 0.947265625⋅sₜ + 0.018310546875⋅vₜ, yₜ: -0.703125⋅πₜ₋₁\n",
       " - 0.703125⋅sₜ + 0.244140625⋅vₜ}"
      ]
     },
     "execution_count": 361,
     "metadata": {},
     "output_type": "execute_result"
    }
   ],
   "source": [
    "# We find the AD and SRAS curves with the given parameters\n",
    "AD_par=AD.subs({alpha:par['alpha'],h:par['h'],b:par['b'],phi:par['phi'],gamma:par['gamma']})\n",
    "SRAS_par=SRAS.subs({alpha:par['alpha'],h:par['h'],b:par['b'],phi:par['phi'],gamma:par['gamma']})\n",
    "\n",
    "#we solve the equation system w.r.t. output- and inflation gap\n",
    "AD_SRAS_EQ_par=sm.solve((AD_par,SRAS_par),(yt,pit))\n",
    "\n",
    "#We print the result\n",
    "AD_SRAS_EQ_par"
   ]
  },
  {
   "cell_type": "markdown",
   "metadata": {},
   "source": [
    "## 2.2 Question 2"
   ]
  },
  {
   "cell_type": "markdown",
   "metadata": {},
   "source": [
    "**Question 2:** Find and illustrate the equilibrium when $y_{t-1} = \\pi_{t-1} = v_t = s_t = s_{t-1} = 0$. Illustrate how the equilibrium changes when instead $v_t = 0.1$."
   ]
  },
  {
   "cell_type": "code",
   "execution_count": 394,
   "metadata": {},
   "outputs": [],
   "source": [
    "#We define the values of the aprameters in the equilibrium we want to examine\n",
    "vt_value1=0.0\n",
    "vt_value2=0.1\n",
    "pi1t_value=0.0\n",
    "y1t_value=0.0\n",
    "st_value=0.0\n",
    "s1t_value=0.0\n",
    "\n",
    "#We definde the AD curve\n",
    "def AD_curve(vt,yt,b,alpha,h):\n",
    "    return (vt-(1+b*alpha)*yt)/(h*alpha)\n",
    "\n",
    "#We definde the SRAS curve curve\n",
    "def SRAS_curve(pi1t, gamma, yt, phi, y1t, st, s1t):\n",
    "    return pi1t+gamma*yt-phi*gamma*y1t+st-phi*s1t"
   ]
  },
  {
   "cell_type": "code",
   "execution_count": 363,
   "metadata": {},
   "outputs": [
    {
     "data": {
      "text/plain": [
       "<matplotlib.legend.Legend at 0x815215da0>"
      ]
     },
     "execution_count": 363,
     "metadata": {},
     "output_type": "execute_result"
    },
    {
     "data": {
      "image/png": "[encoded data removed]",
      "text/plain": [
       "<Figure size 864x720 with 1 Axes>"
      ]
     },
     "metadata": {
      "needs_background": "light"
     },
     "output_type": "display_data"
    }
   ],
   "source": [
    "# We define the format and labels of the graph\n",
    "y = np.linspace(-0.05,0.05,50)\n",
    "fig, ax = plt.subplots(figsize = (12,10))\n",
    "ax.set_xlabel('$y_t$', fontsize = 20)\n",
    "ax.set_ylabel('$\\pi_t$', fontsize = 20)\n",
    "ax.set_title(\"AS-AD with shift in $v_t$\", fontsize = 20)\n",
    "\n",
    "# We add the AD curve for vt=0\n",
    "plt.plot(y, AD_curve(vt=vt_value1,yt=y,b=par['b'],alpha=par['alpha'],h=par['h']),label = \"AD Curve, $v_t=0$\", color='grey')\n",
    "\n",
    "# We add the AD curve for vt=0.1\n",
    "plt.plot(y, AD_curve(vt=vt_value2,yt=y,b=par['b'],alpha=par['alpha'],h=par['h']),label = \"AD Curve, $v_t=0.1$\", color='grey', linestyle = '--')\n",
    "\n",
    "# We add the SRAS curve\n",
    "plt.plot(y, SRAS_curve(pi1t=pi1t_value,gamma=par['gamma'],yt=y,phi=par['phi'],y1t=y1t_value,st=st_value,s1t=s1t_value),label = \"SRAS Curve\")\n",
    "\n",
    "#We add a legend to the plot\n",
    "plt.legend(frameon = True,fontsize = 16)"
   ]
  },
  {
   "cell_type": "markdown",
   "metadata": {},
   "source": [
    "## 2.3 Question 3"
   ]
  },
  {
   "cell_type": "markdown",
   "metadata": {},
   "source": [
    "**Persistent disturbances:** Now, additionaly, assume that both the demand and the supply disturbances are AR(1) processes\n",
    "\n",
    "$$ v_{t} = \\delta v_{t-1} + x_{t} $$\n",
    "$$ s_{t} = \\omega s_{t-1} + c_{t} $$\n",
    "\n",
    "where $x_{t}$ is a **demand shock**, and $c_t$ is a **supply shock**. The **autoregressive parameters** are:"
   ]
  },
  {
   "cell_type": "code",
   "execution_count": 364,
   "metadata": {},
   "outputs": [],
   "source": [
    "par['delta'] = 0.80\n",
    "par['omega'] = 0.15"
   ]
  },
  {
   "cell_type": "markdown",
   "metadata": {},
   "source": [
    "**Question 3:** Starting from $y_{-1} = \\pi_{-1} = s_{-1} = 0$, how does the economy evolve for $x_0 = 0.1$, $x_t = 0, \\forall t > 0$ and $c_t = 0, \\forall t \\geq 0$?"
   ]
  },
  {
   "cell_type": "markdown",
   "metadata": {},
   "source": [
    "First, we create the AR-processes and make a list of the values of $v_t$ and $s_t$ in the periods following the shock(s):"
   ]
  },
  {
   "cell_type": "code",
   "execution_count": 365,
   "metadata": {},
   "outputs": [],
   "source": [
    "# setting initial values for AR-processes\n",
    "c0=0\n",
    "c_rest=0\n",
    "x0=0.1\n",
    "x_rest=0 \n",
    " \n",
    "# Number of periods calculated\n",
    "num=99\n",
    "\n",
    "# Creating a list of values of vt after num periods\n",
    "v_values=[]\n",
    "\n",
    "# Creating the initial value of v\n",
    "v_initial=par['delta']*vt_value1+x0\n",
    "\n",
    "# Adding the value to the list of v values \n",
    "v_values.append(v_initial)\n",
    "\n",
    "# Finding the values of v after the inital shock and adding them to the list\n",
    "def v_shock(number=num):\n",
    "    for i in range(0,number): \n",
    "        vt_i=par['delta']*v_values[i]+x_rest\n",
    "        v_values.append(vt_i)\n",
    "v_shock();\n",
    "        \n",
    "# Creating a list of values of st after num periods - Not necessary, but doing it for completeness\n",
    "s_values=[]\n",
    "\n",
    "# Creating the initial value of s\n",
    "s_initial=par['omega']*st_value+c0\n",
    "\n",
    "# Adding the value to the list of s values \n",
    "s_values.append(s_initial)\n",
    "\n",
    "# Finding the values of s after the inital shock and adding them to the list\n",
    "def s_shock(number=num): \n",
    "    for i in range(0,number):\n",
    "        st_i=par['omega']*s_values[i]+c_rest\n",
    "        s_values.append(st_i)       \n",
    "s_shock();\n"
   ]
  },
  {
   "cell_type": "markdown",
   "metadata": {},
   "source": [
    "Then, we make a new list of the equilibirum values of $pi_t$ and $y_t$ in the periods after the shock(s), by inserting the values for $v_t$ and $s_t$ in the expression for $pi_t$ and $y_t$"
   ]
  },
  {
   "cell_type": "code",
   "execution_count": 366,
   "metadata": {},
   "outputs": [],
   "source": [
    "#We create the pi equilibrium value given the initial values\n",
    "ADAS_Shock_pi=AD_SRAS_EQ_par[pit]\n",
    "\n",
    "# Creating a list of values of pi after the shock\n",
    "pi_shock_values=[]\n",
    "\n",
    "# Creating the initial value of pi\n",
    "pi_shock_initial=ADAS_Shock_pi.subs({pi1t:pi1t_value,st:s_values[0],vt:v_values[0]})\n",
    "pi_shock_values.append(pi_shock_initial)\n",
    "\n",
    "# Finding the values of pi after the inital shock and adding them to the list\n",
    "def pi_shock(number=num):\n",
    "    for i in range(0,number): \n",
    "        pi_i=ADAS_Shock_pi.subs({st:s_values[i+1],vt:v_values[i+1], pi1t:pi_shock_values[i]})\n",
    "        pi_shock_values.append(pi_i)\n",
    "pi_shock();\n",
    "\n",
    "#We create the pi equilibrium value given the initial values\n",
    "ADAS_Shock_y=AD_SRAS_EQ_par[yt]\n",
    "\n",
    "# Creating a list of values of pi after the shock\n",
    "y_shock_values=[]\n",
    "\n",
    "# Finding the values of y after the inital shock and adding them to the list. 1 is added to number to ensure the y_shock_values list is 100 long, as we do not compute the initial value\n",
    "def y_shock(number=num):\n",
    "    for i in range(0,number+1): \n",
    "        y_i=ADAS_Shock_y.subs({st:s_values[i],vt:v_values[i], pi1t:pi_shock_values[i]})\n",
    "        y_shock_values.append(y_i)\n",
    "y_shock();"
   ]
  },
  {
   "cell_type": "markdown",
   "metadata": {},
   "source": [
    "All we need to do now, is to illustrate our y_shock_values and pi_shock_values. We insert the values in the same diagram, to illustrate how they relate:"
   ]
  },
  {
   "cell_type": "code",
   "execution_count": 367,
   "metadata": {},
   "outputs": [
    {
     "data": {
      "text/plain": [
       "<matplotlib.legend.Legend at 0x102789390>"
      ]
     },
     "execution_count": 367,
     "metadata": {},
     "output_type": "execute_result"
    },
    {
     "data": {
      "image/png": "[encoded data removed]",
      "text/plain": [
       "<Figure size 864x720 with 1 Axes>"
      ]
     },
     "metadata": {
      "needs_background": "light"
     },
     "output_type": "display_data"
    }
   ],
   "source": [
    "# Constructing graph\n",
    "y = np.linspace(0,100,100)\n",
    "fig, ax = plt.subplots(figsize = (12,10))\n",
    "ax.set_xlabel('#period', fontsize = 20)\n",
    "ax.set_ylabel('$\\pi_t/y_t$', fontsize = 20)\n",
    "ax.set_title(\"Effect of shock\", fontsize = 20)\n",
    "\n",
    "#Inserting pi and y values\n",
    "plt.plot(y, pi_shock_values,label = '$\\pi_t$')\n",
    "plt.plot(y, y_shock_values,label = '$y_t$')\n",
    "\n",
    "#Adding legend\n",
    "plt.legend(frameon = True, fontsize = 16)"
   ]
  },
  {
   "cell_type": "markdown",
   "metadata": {},
   "source": [
    "## 2.4 Question 4"
   ]
  },
  {
   "cell_type": "markdown",
   "metadata": {},
   "source": [
    "**Stochastic shocks:** Now, additionally, assume that $x_t$ and $c_t$ are stochastic and normally distributed\n",
    "\n",
    "$$ x_{t}\\sim\\mathcal{N}(0,\\sigma_{x}^{2}) $$\n",
    "$$ c_{t}\\sim\\mathcal{N}(0,\\sigma_{c}^{2}) $$\n",
    "\n",
    "The **standard deviations of the shocks** are:"
   ]
  },
  {
   "cell_type": "code",
   "execution_count": 368,
   "metadata": {},
   "outputs": [],
   "source": [
    "par['sigma_x'] = 3.492\n",
    "par['sigma_c'] = 0.2"
   ]
  },
  {
   "cell_type": "markdown",
   "metadata": {},
   "source": [
    "**Question 4:** Simulate the AS-AD model for 1,000 periods. Calculate the following five statistics:\n",
    "\n",
    "1. Variance of $y_t$, $var(y_t)$\n",
    "2. Variance of $\\pi_t$, $var(\\pi_t)$\n",
    "3. Correlation between $y_t$ and $\\pi_t$, $corr(y_t,\\pi_t)$\n",
    "4. Auto-correlation between $y_t$ and $y_{t-1}$, $corr(y_t,y_{t-1})$\n",
    "5. Auto-correlation between $\\pi_t$ and $\\pi_{t-1}$, $corr(\\pi_t,\\pi_{t-1})$"
   ]
  },
  {
   "cell_type": "code",
   "execution_count": 504,
   "metadata": {},
   "outputs": [],
   "source": [
    "np.random.seed(1312)\n",
    "sigma_x=np.random.normal(0, par['sigma_x'], size=1000)\n",
    "sigma_c=np.random.normal(0, par['sigma_c'], size=1000)"
   ]
  },
  {
   "cell_type": "code",
   "execution_count": 505,
   "metadata": {},
   "outputs": [],
   "source": [
    "# Number of periods calculated\n",
    "num2=999\n",
    "c_rest_rand=sigma_c\n",
    "x_rest_rand=sigma_x \n",
    "#Creating the list of v values given the random c values\n",
    "v_values_rand=[]\n",
    "\n",
    "# Creating the initial value of v\n",
    "v_initial_rand=par['delta']*vt_value1+x_rest_rand[0]\n",
    "\n",
    "# Adding the value to the list of v values \n",
    "v_values_rand.append(v_initial_rand)\n",
    "\n",
    "# Finding the values of v\n",
    "def v_shock_rand(number=num2):\n",
    "    for i in range(0,number): \n",
    "        vt_i_rand=par['delta']*v_values_rand[i]+x_rest_rand[i]\n",
    "        v_values_rand.append(vt_i_rand)\n",
    "v_shock_rand();    \n",
    "\n",
    "#Creating the list of s values given the random c values\n",
    "s_values_rand=[]\n",
    "\n",
    "# Creating the initial value of s\n",
    "s_initial_rand=par['omega']*st_value+c_rest_rand[0]\n",
    "\n",
    "# Adding the value to the list of s values \n",
    "s_values_rand.append(s_initial_rand)\n",
    "\n",
    "# Finding the values of s\n",
    "def s_shock_rand(number=num2): \n",
    "    for i in range(0,number):\n",
    "        st_i_rand=par['omega']*s_values_rand[i]+c_rest_rand[i]\n",
    "        s_values_rand.append(st_i_rand)       \n",
    "s_shock_rand();"
   ]
  },
  {
   "cell_type": "code",
   "execution_count": 506,
   "metadata": {},
   "outputs": [],
   "source": [
    "\n",
    "# Creating a list of values of pi after the shock\n",
    "pi_rand_values=[]\n",
    "\n",
    "# Creating the initial value of pi\n",
    "pi_rand_initial=ADAS_Shock_pi.subs({pi1t:pi1t_value,st:s_values_rand[0],vt:v_values_rand[0]})\n",
    "pi_rand_values.append(pi_rand_initial)\n",
    "\n",
    "# Finding the values of pi after the inital shock and adding them to the list\n",
    "def pi_rand(number=num2):\n",
    "    for i in range(0,number): \n",
    "        pi_i_rand=ADAS_Shock_pi.subs({st:s_values_rand[i],vt:v_values_rand[i], pi1t:pi_rand_values[i]})\n",
    "        pi_rand_values.append(pi_i_rand)\n",
    "pi_rand();\n",
    "\n",
    "# Creating a list of values of pi after the shock\n",
    "y_rand_values=[]\n",
    "\n",
    "# Finding the values of y after the inital shock and adding them to the list. 1 is added to number to ensure the y_shock_values list is 100 long, as we do not compute the initial value\n",
    "def y_rand(number=num2):\n",
    "    for i in range(0,number+1): \n",
    "        y_i_rand=ADAS_Shock_y.subs({st:s_values_rand[i],vt:v_values_rand[i], pi1t:pi_rand_values[i]})\n",
    "        y_rand_values.append(y_i_rand)\n",
    "y_rand();\n"
   ]
  },
  {
   "cell_type": "code",
   "execution_count": 507,
   "metadata": {},
   "outputs": [
    {
     "name": "stdout",
     "output_type": "stream",
     "text": [
      "y-variance: 2.09973587914483\n",
      "pi-variance: 1.08258089254968\n",
      "pi_y-correlation: [-500.494142147882]\n",
      "y-auto correlation: [1683.07278560225]\n",
      "pi-auto correlation: [1152.23004688365]\n"
     ]
    }
   ],
   "source": [
    "y_rand_var=np.var(y_rand_values)\n",
    "pi_rand_var=np.var(pi_rand_values)\n",
    "pi_y_corr=np.correlate(pi_rand_values,y_rand_values)\n",
    "y_auto_corr=np.correlate(y_rand_values[1:], y_rand_values[:-1])\n",
    "pi_auto_corr=np.correlate(pi_rand_values[1:], pi_rand_values[:-1])\n",
    "\n",
    "print(str('y-variance: ')+ str(y_rand_var))\n",
    "print(str('pi-variance: ')+ str(pi_rand_var))\n",
    "print(str('pi_y-correlation: ')+ str(pi_y_corr))\n",
    "print(str('y-auto correlation: ')+ str(y_auto_corr))\n",
    "print(str('pi-auto correlation: ')+ str(pi_auto_corr))\n"
   ]
  },
  {
   "cell_type": "markdown",
   "metadata": {},
   "source": [
    "## 2.5 Question 5"
   ]
  },
  {
   "cell_type": "markdown",
   "metadata": {},
   "source": [
    "**Question 5:** Plot how the correlation between $y_t$ and $\\pi_t$ changes with $\\phi$. Use a numerical optimizer or root finder to choose $\\phi\\in(0,1)$ such that the simulated correlation between $y_t$ and $\\pi_t$ comes close to 0.31. "
   ]
  },
  {
   "cell_type": "markdown",
   "metadata": {},
   "source": [
    "## 2.6 Question 6"
   ]
  },
  {
   "cell_type": "markdown",
   "metadata": {},
   "source": [
    "**Quesiton 6:** Use a numerical optimizer to choose $\\sigma_x>0$, $\\sigma_c>0$ and $\\phi\\in(0,1)$ to make the simulated statistics as close as possible to US business cycle data where:\n",
    "\n",
    "1. $var(y_t) = 1.64$\n",
    "2. $var(\\pi_t) = 0.21$\n",
    "3. $corr(y_t,\\pi_t) = 0.31$\n",
    "4. $corr(y_t,y_{t-1}) = 0.84$\n",
    "5. $corr(\\pi_t,\\pi_{t-1}) = 0.48$"
   ]
  },
  {
   "cell_type": "code",
   "execution_count": null,
   "metadata": {},
   "outputs": [],
   "source": []
  }
 ],
 "metadata": {
  "kernelspec": {
   "display_name": "Python 3",
   "language": "python",
   "name": "python3"
  },
  "language_info": {
   "codemirror_mode": {
    "name": "ipython",
    "version": 3
   },
   "file_extension": ".py",
   "mimetype": "text/x-python",
   "name": "python",
   "nbconvert_exporter": "python",
   "pygments_lexer": "ipython3",
   "version": "3.7.1"
  }
 },
 "nbformat": 4,
 "nbformat_minor": 2
}
